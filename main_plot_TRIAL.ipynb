{
 "cells": [
  {
   "cell_type": "code",
   "execution_count": 1,
   "metadata": {},
   "outputs": [],
   "source": [
    "import cv2\n",
    "import numpy as np\n",
    "from tqdm import trange\n",
    "from flygym import Fly, Simulation, Camera, get_data_path\n",
    "from flygym.arena import FlatTerrain\n",
    "from flygym.preprogrammed import all_leg_dofs\n",
    "import pickle\n",
    "import matplotlib.pyplot as plt\n",
    "from pathlib import Path\n",
    "import sys\n",
    "#sys.path.append('C:/Users/laeti/Documents/laetitia/EPFL/Master/CoursMA2/Control_Behaviour/projet')\n",
    "from hybrid_turning_fly import HybridTurningFly\n",
    "from simulation_CPG import Simulation_CPG\n",
    "from flygym.examples.cpg_controller import CPGNetwork\n",
    "from IPython import display\n",
    "from flygym.vision import save_video_with_vision_insets\n",
    "\n",
    "import imageio"
   ]
  },
  {
   "cell_type": "code",
   "execution_count": 2,
   "metadata": {},
   "outputs": [
    {
     "name": "stderr",
     "output_type": "stream",
     "text": [
      "c:\\users\\laeti\\documents\\laetitia\\epfl\\master\\coursma2\\control_behaviour\\projet\\flygym-v1\\flygym\\core.py:331: UserWarning: Deprecation warning: The `NeuroMechFly` class has been restructured into `Simulation`, `Fly`, and `Camera`.`NeuroMechFly` will be removed in future versions.\n",
      "  warnings.warn(\n"
     ]
    }
   ],
   "source": [
    "from flygym import Parameters, NeuroMechFly\n",
    "nmf = NeuroMechFly(Parameters(enable_adhesion=True, draw_adhesion=True))\n",
    "from flygym.examples.common import PreprogrammedSteps\n",
    "\n",
    "#Filtering initialization :\n",
    "import numpy as np\n",
    "from collections import deque\n",
    "\n",
    "preprogrammed_steps = PreprogrammedSteps()\n",
    "swing_periods = preprogrammed_steps.swing_period\n",
    "legs = preprogrammed_steps.legs"
   ]
  },
  {
   "cell_type": "code",
   "execution_count": 3,
   "metadata": {},
   "outputs": [],
   "source": [
    "class VisualTaxisFly(HybridTurningFly):\n",
    "    def __init__(self, obj_threshold=0.15, decision_interval=0.05, **kwargs):\n",
    "        super().__init__(**kwargs, enable_vision=True)\n",
    "        self.obj_threshold = obj_threshold\n",
    "        self.decision_interval = decision_interval\n",
    "        self.num_substeps = int(self.decision_interval / self.timestep)\n",
    "        self.visual_inputs_hist = []\n",
    "\n",
    "        self.coms = np.empty((self.retina.num_ommatidia_per_eye, 2))\n",
    "\n",
    "        for i in range(self.retina.num_ommatidia_per_eye):\n",
    "            mask = self.retina.ommatidia_id_map == i + 1\n",
    "            self.coms[i, :] = np.argwhere(mask).mean(axis=0)\n",
    "\n",
    "    def process_visual_observation(self, vision_input):\n",
    "        features = np.zeros((2, 3))\n",
    "\n",
    "        for i, ommatidia_readings in enumerate(vision_input):\n",
    "            is_obj = ommatidia_readings.max(axis=1) < self.obj_threshold\n",
    "            is_obj_coords = self.coms[is_obj]\n",
    "\n",
    "            if is_obj_coords.shape[0] > 0:\n",
    "                features[i, :2] = is_obj_coords.mean(axis=0)\n",
    "\n",
    "            features[i, 2] = is_obj_coords.shape[0]\n",
    "\n",
    "        features[:, 0] /= self.retina.nrows  # normalize y_center\n",
    "        features[:, 1] /= self.retina.ncols  # normalize x_center\n",
    "        features[:, 2] /= self.retina.num_ommatidia_per_eye  # normalize area\n",
    "        return features.ravel().astype(\"float32\")\n",
    "\n",
    "    @staticmethod\n",
    "    def calc_ipsilateral_speed(deviation, is_found):\n",
    "        if not is_found:\n",
    "            return 1.0\n",
    "        else:\n",
    "            return np.clip(1 - deviation * 3, 0.4, 1.2)"
   ]
  },
  {
   "cell_type": "code",
   "execution_count": 4,
   "metadata": {},
   "outputs": [],
   "source": [
    "class MovingFly(Fly):\n",
    "    def __init__(self, init_pose=\"stretch\", actuated_joints=None, control=\"position\",\n",
    "                 initial_position=None, initial_orientation=None, **kwargs):\n",
    "        super().__init__(**kwargs, init_pose=init_pose, actuated_joints=actuated_joints, control=control,\n",
    "                         spawn_pos=initial_position, spawn_orientation=initial_orientation, enable_vision=True)\n",
    "        self.visual_inputs_hist = []\n",
    "        self.standing=[] #joints angles to stand\n",
    "        self.strech=[] #linespace to strech the elg\n",
    "        self.middle_stance_ids=[] #je sais pas a quoi ca sert\n",
    "        self.mid_leg_end_effector=[] #init des end effector\n",
    "        self.joint_record=[] #init des end effector\n",
    "\n",
    "    def simulate_step(self, sim: Simulation, roll_angle: float, yaw_angle: float, side: str='L'):\n",
    "        action = {\"joints\": self.simulate_movement(sim, roll_angle, yaw_angle, side)}\n",
    "        action[\"adhesion\"] = np.array([1,0,1,1,0,1]) #add adhesion \n",
    "        return action\n",
    "\n",
    "    def simulate_movement(self, sim: Simulation, roll_angle: float, yaw_angle: float, side: str, increment: float = 0.00015,):\n",
    "        joint_pos = self.standing.copy()\n",
    "\n",
    "        joint_angles = preprogrammed_steps.get_joint_angles(\"LM\" if side == \"L\" else \"RM\", 0)\n",
    "\n",
    "        if side == \"L\":\n",
    "            joint_pos[7:14] = joint_angles + self.strech\n",
    "            joint_pos[9], joint_pos[7] = roll_angle, yaw_angle  # Setting specific yaw and pitch\n",
    "        else:\n",
    "            joint_pos[28:35] = joint_angles + self.strech\n",
    "            joint_pos[30], joint_pos[28] = roll_angle, yaw_angle\n",
    "\n",
    "        #print(joint_pos[28:35])\n",
    "        #self.record_mov(sim, side, joint_pos)\n",
    "        return joint_pos\n",
    "\n",
    "    def record_mov(self, sim: Simulation, side: str, joint_pos):\n",
    "        observation = self.get_observation(sim)\n",
    "        end_effector = observation[\"end_effectors\"]\n",
    "        if side=='L': self.mid_leg_end_effector.append([end_effector[1,:]])\n",
    "        else : self.mid_leg_end_effector.append([end_effector[3,:]])\n",
    "        self.joint_record.append=(joint_pos)\n",
    "\n",
    "\n"
   ]
  },
  {
   "cell_type": "code",
   "execution_count": 5,
   "metadata": {},
   "outputs": [],
   "source": [
    "def scenario(start_postion=0):\n",
    "    pos = (0,4.5,0)\n",
    "    orien_fwd = (0,0,np.pi/2)\n",
    "    orien_bcd =(0,0,-np.pi/2)\n",
    "\n",
    "    match start_postion:\n",
    "        case 0 : return pos, orien_fwd\n",
    "        case 1:\n",
    "            pos = (16,4.5,0)\n",
    "            return pos, orien_bcd\n",
    "        case 2:\n",
    "            pos = (16,-4.5,0)\n",
    "            return pos, orien_bcd\n",
    "        case 3 :\n",
    "            return (0,-5,0), orien_fwd\n",
    "        case TypeError:\n",
    "            print(\"wrong start_position, default values taken\")\n",
    "            return pos, orien_fwd"
   ]
  },
  {
   "cell_type": "code",
   "execution_count": 6,
   "metadata": {},
   "outputs": [],
   "source": [
    "timestep = 1e-4\n",
    "scenario_fly1=0\n",
    "\n",
    "fly = Fly(\n",
    "    name=\"1\",\n",
    "    init_pose=\"stretch\",\n",
    "    actuated_joints=all_leg_dofs,\n",
    "    control=\"position\",\n",
    "    enable_adhesion=True,\n",
    "    draw_adhesion=False,\n",
    "    spawn_pos= scenario(scenario_fly1)[0],\n",
    "    spawn_orientation = scenario(scenario_fly1)[1]\n",
    ")\n",
    "\n",
    "#need to process visual informations\n",
    "# fly0 = VisualTaxisFly(\n",
    "#     name=\"0\", #static\n",
    "#     timestep=timestep,\n",
    "#     enable_adhesion=True,\n",
    "#     head_stabilization_model=\"thorax\",\n",
    "#     neck_kp=1000,\n",
    "#     spawn_pos=(8,0,0), #position\n",
    "#     spawn_orientation = (0,0,-np.pi/2)\n",
    "# )\n",
    "\n",
    "fly0 = MovingFly(\n",
    "\n",
    "    name=\"0\", #static\n",
    "    init_pose=\"stretch\",\n",
    "    actuated_joints=all_leg_dofs,\n",
    "    control=\"position\",\n",
    "    enable_adhesion=True,\n",
    "    head_stabilization_model=\"thorax\",\n",
    "    neck_kp=1000,\n",
    "    initial_position=(8,0,0), #position\n",
    "    initial_orientation = (0,0,-np.pi/2)\n",
    ")\n",
    "\n",
    "#camSide = [    Camera(fly=fly, camera_id=f\"Animat/camera_{side}\", window_size=(256, 256))\n",
    "#    for side in [\"left\", \"right\", \"top\", \"front\"]]\n",
    "\n",
    "arena = FlatTerrain()\n",
    "\n",
    "birdeye_cam_zoom = arena.root_element.worldbody.add(\n",
    "    \"camera\",\n",
    "    name=\"birdeye_cam_zoom\",\n",
    "    mode=\"fixed\",\n",
    "    pos=(15, 0, 20),\n",
    "    euler=(0, 0, 0),\n",
    "    fovy=45,\n",
    ")\n",
    "\n",
    "birdeye_cam = arena.root_element.worldbody.add(\n",
    "    \"camera\",\n",
    "    name=\"birdeye_cam\",\n",
    "    mode=\"fixed\",\n",
    "    pos=(15, 0, 35),\n",
    "    euler=(0, 0, 0),\n",
    "    fovy=45,\n",
    ")\n",
    "\n",
    "\n",
    "cam = Camera(\n",
    "    fly=fly0,\n",
    "    camera_id=\"birdeye_cam\",\n",
    "    play_speed=0.5,\n",
    "    window_size=(800, 608),\n",
    ")\n",
    "\n",
    "# sim = Simulation(\n",
    "#     flies=[fly0, fly],\n",
    "#     cameras=[cam],\n",
    "#     arena=arena,\n",
    "#     timestep=timestep,\n",
    "# )\n",
    "\n",
    "cam1 = Camera(fly=fly0, play_speed=0.2, draw_contacts=False, camera_follows_fly_orientation=True)\n",
    "\n",
    "camFront = cam = Camera(fly=fly0, camera_id=\"Animat/camera_front\")\n",
    "\n",
    "\n",
    "sim = Simulation(\n",
    "    flies=[fly0, fly],\n",
    "    cameras=[cam1, cam, camFront],\n",
    "    arena=arena,\n",
    "    timestep=timestep,\n",
    ")\n",
    "\n",
    "simulation_cpg = Simulation_CPG(timestep)"
   ]
  },
  {
   "cell_type": "code",
   "execution_count": 7,
   "metadata": {},
   "outputs": [
    {
     "name": "stderr",
     "output_type": "stream",
     "text": [
      "c:\\Users\\laeti\\anaconda3\\envs\\flygym-v1\\Lib\\site-packages\\torch\\nn\\modules\\lazy.py:181: UserWarning: Lazy modules are a new feature under heavy development so changes to the API or functionality can happen at any moment.\n",
      "  warnings.warn('Lazy modules are a new feature under heavy development '\n"
     ]
    },
    {
     "data": {
      "text/plain": [
       "Model(\n",
       "  (conv1): Conv2d(2, 8, kernel_size=(3, 3), stride=(1, 1), groups=2)\n",
       "  (bn1): BatchNorm2d(8, eps=1e-05, momentum=0.1, affine=True, track_running_stats=True)\n",
       "  (conv2): Conv2d(8, 8, kernel_size=(3, 3), stride=(1, 1), groups=2)\n",
       "  (bn2): BatchNorm2d(8, eps=1e-05, momentum=0.1, affine=True, track_running_stats=True)\n",
       "  (conv3): Conv2d(8, 8, kernel_size=(3, 3), stride=(1, 1), groups=2)\n",
       "  (pool3): MaxPool2d(kernel_size=2, stride=2, padding=0, dilation=1, ceil_mode=False)\n",
       "  (fc1): LazyLinear(in_features=0, out_features=16, bias=True)\n",
       "  (fc2): Linear(in_features=16, out_features=16, bias=True)\n",
       "  (fc3): Linear(in_features=16, out_features=2, bias=True)\n",
       ")"
      ]
     },
     "execution_count": 7,
     "metadata": {},
     "output_type": "execute_result"
    }
   ],
   "source": [
    "########################## Vision Model definition ###############################\n",
    "#to see the training -> vision.ipynb\n",
    "\n",
    "from utils import crop_hex_to_rect\n",
    "\n",
    "import torch\n",
    "from torch import nn\n",
    "import torch.nn.functional as F\n",
    "\n",
    "class Model(nn.Module):\n",
    "    def __init__(self):\n",
    "        super().__init__()\n",
    "        # Define your layers here\n",
    "        self.conv1 = nn.Conv2d(2, 8, 3, groups=2)  # Convolutional layer\n",
    "        self.bn1 = nn.BatchNorm2d(8)\n",
    "        self.conv2 = nn.Conv2d(8, 8, 3, groups=2)  # Convolutional layer\n",
    "        self.bn2 = nn.BatchNorm2d(8)\n",
    "        self.conv3 = nn.Conv2d(8, 8, 3, groups=2)  # Convolutional layer\n",
    "        self.pool3 = nn.MaxPool2d(2, 2)  # Max pooling layer\n",
    "        self.fc1 = nn.LazyLinear(16)  # Lazy linear layer\n",
    "        self.fc2 = nn.Linear(16, 16)  # Linear layer\n",
    "        self.fc3 = nn.Linear(16, 2)   # Linear layer for output\n",
    "\n",
    "    def forward(self, x):\n",
    "        # Define the forward pass\n",
    "        x = F.tanh(self.conv1(x))\n",
    "        x = F.relu(self.bn1(x))\n",
    "        x = F.tanh(self.conv2(x))\n",
    "        x = self.bn2(x)  # Apply pooling after the second convolution\n",
    "        x = F.tanh(self.conv3(x))\n",
    "        x = self.pool3(x)  # Apply pooling after the third convolution\n",
    "        x = x.flatten(1)   # Flatten the output to feed into linear layers\n",
    "        x = F.tanh(self.fc1(x))\n",
    "        x = F.tanh(self.fc2(x))\n",
    "        x = self.fc3(x)\n",
    "        return x\n",
    "    \n",
    "\n",
    "# Create an instance of the model\n",
    "model = Model()\n",
    "\n",
    "# Load the model weights\n",
    "model.load_state_dict(torch.load('./best_model/best_model_vision.pth'))\n",
    "\n",
    "model.eval()\n"
   ]
  },
  {
   "cell_type": "code",
   "execution_count": 21,
   "metadata": {},
   "outputs": [],
   "source": [
    "########################## Initialization ###############################\n",
    "\n",
    "run_time = 1\n",
    "obs, info = sim.reset(seed=0)\n",
    "\n",
    "for i in fly.model.find_all(\"geom\"):\n",
    "    sim.physics.named.model.geom_rgba[f\"1/{i.name}\"] = (0, 0, 0, 1)\n",
    "\n",
    "second_cam_frames = []\n",
    "x = None\n",
    "alpha = 1e-1\n",
    "\n",
    "\n",
    "#usefull constant\n",
    "target_num_steps=1000 #0.3/0.001 enginner joint angles\n",
    "\n",
    "middle_stance_ids = np.linspace(swing_periods[\"RM\"][1], 2 * np.pi, target_num_steps)\n",
    "\n",
    "\n",
    "\n",
    "roll_finished = False\n",
    "movement_roll=False\n",
    "i_roll=0\n",
    "\n",
    "########################## Filtering ###############################\n",
    "n = 50  # Number of observations for moving average\n",
    "theta_pred_history = deque(maxlen=n)\n",
    "distances_history = deque(maxlen=n)\n",
    "\n",
    "\n",
    "########################## Standing behaviour ###############################\n",
    "standing_action = []\n",
    "for leg in legs:\n",
    "    if leg.endswith(\"M\"):\n",
    "        standing_action.extend(\n",
    "            preprogrammed_steps.get_joint_angles(leg, swing_periods[leg][1])\n",
    "        )\n",
    "    else:\n",
    "        standing_action.extend(preprogrammed_steps.get_joint_angles(leg, 0.0))\n",
    "\n",
    "fly0_action = {\"joints\": standing_action, \"adhesion\": np.array([1,0,1,1,0,1])}\n",
    "fly0.standing= standing_action"
   ]
  },
  {
   "cell_type": "code",
   "execution_count": 9,
   "metadata": {},
   "outputs": [
    {
     "name": "stderr",
     "output_type": "stream",
     "text": [
      "100%|██████████| 5000/5000 [02:56<00:00, 28.38it/s]\n"
     ]
    }
   ],
   "source": [
    "yam_history = []\n",
    "distances_sma_hist = []\n",
    "theta_pred_sma_hist=[]\n",
    "run_time=0.5\n",
    "\n",
    "distance_cond = False\n",
    "\n",
    "for _ in trange(int(run_time / sim.timestep)):\n",
    "    fly1_action = simulation_cpg.update(fly.actuated_joints)\n",
    "    obs, _,_ ,_ , info = sim.step({\n",
    "        \"0\" : fly0_action,\n",
    "        \"1\" : fly1_action,\n",
    "    })\n",
    "\n",
    "    obs0, info0 = obs[\"0\"], info[\"0\"]\n",
    "    fly0.obs = obs0\n",
    "    render_res = sim.render()[0]\n",
    "\n",
    "    if render_res is not None:\n",
    "        fly0.visual_inputs_hist.append(obs0[\"vision\"].copy())\n",
    "        second_cam = sim.physics.bind(birdeye_cam_zoom)\n",
    "\n",
    "        x_new = sim._get_center_of_mass()[0]\n",
    "\n",
    "        if x is None:\n",
    "            x = x_new\n",
    "\n",
    "        x = (1 - alpha) * x + alpha * x_new\n",
    "\n",
    "        second_cam.pos[0] = x\n",
    "        second_img = sim.physics.render(\n",
    "            width=700, height=560, camera_id=\"birdeye_cam_zoom\"\n",
    "        )\n",
    "        second_img = cv2.putText(\n",
    "            np.ascontiguousarray(second_img),\n",
    "            f\"{sim.cameras[0].play_speed}x\",\n",
    "            org=(20, 30),\n",
    "            fontFace=cv2.FONT_HERSHEY_DUPLEX,\n",
    "            fontScale=0.8,\n",
    "            color=(0, 0, 0),\n",
    "            lineType=cv2.LINE_AA,\n",
    "            thickness=1,\n",
    "        )\n",
    "        second_cam_frames.append(second_img)\n",
    "        \n",
    "\n",
    "    ########################## NN Vision based on week 4 ###############################\n",
    "        \n",
    "    imgs = crop_hex_to_rect(obs0[\"vision\"]) #transform the image into a rectangle by croping\n",
    "    imgs = np.expand_dims(imgs, axis=0) #transform into a 4d vector to match the training data\n",
    "\n",
    "    with torch.no_grad(): #gradient doesn't flow back in the model\n",
    "        coords_lr_pred = model(torch.tensor(imgs)).numpy()\n",
    "\n",
    "    #prediction of the other fly's position\n",
    "    theta_pred = np.angle(coords_lr_pred @ (1, -1j) * np.exp(1j * np.pi / 4))\n",
    "    distances = np.linalg.norm(coords_lr_pred, axis=1)\n",
    "    ########################## Filtering ####################################\n",
    "    #Moving average\n",
    "    theta_pred_history.append(theta_pred)\n",
    "    distances_history.append(distances)\n",
    "\n",
    "    theta_pred_sma = np.mean(theta_pred_history)\n",
    "    distances_sma = np.mean(distances_history)\n",
    "\n",
    "    distances_sma_hist.append(distances_sma)\n",
    "    theta_pred_sma_hist.append(theta_pred_sma)\n",
    "\n",
    "\n",
    "\n",
    "\n",
    "\n",
    "    ########################## Workspace transcription ###############################\n",
    "    #a verifier mais pas sur du tout\n",
    "    previous_angle = real_angle\n",
    "    if theta_pred_sma < 0:\n",
    "        side='R'\n",
    "        real_angle = -(theta_pred_sma + np.deg2rad(90)) #offset on the leg actuator\n",
    "    else:\n",
    "        side='L'\n",
    "        #real_angle = -(theta_pred_sma + np.deg2rad(90)) #offset on the leg actuator\n",
    "        real_angle= - theta_pred_sma + np.deg2rad(90)\n",
    "\n",
    "\n",
    "    ########################## Movement computation ###############################\n",
    "\n",
    "\n",
    "    if distances_sma<=8 or distance_cond :\n",
    "        distance_cond = True\n",
    "        if movement_roll== False: #find roll to give to the fly\n",
    "            L_midleg_start = preprogrammed_steps.get_joint_angles(\"LM\", 0.0)\n",
    "            L_midleg_stretch = np.linspace(np.zeros(len(L_midleg_start)), -L_midleg_start, target_num_steps)\n",
    "\n",
    "            R_midleg_start = preprogrammed_steps.get_joint_angles(\"RM\", 0.0)\n",
    "            R_midleg_stretch = np.linspace( np.zeros(len(R_midleg_start)), -R_midleg_start, target_num_steps)\n",
    "\n",
    "            if side=='L':\n",
    "                roll_lin= np.linspace(obs0[\"joints\"][0][9], 1.5, target_num_steps)\n",
    "            else : \n",
    "                roll_lin= np.linspace(obs0[\"joints\"][0][30], -1.5, target_num_steps)\n",
    "            movement_roll=True\n",
    "            previous_angle = real_angle #init\n",
    "            start_id=i\n",
    "        \n",
    "\n",
    "        if roll_finished:\n",
    "            if side=='L':\n",
    "                roll=1.5\n",
    "                fly0.strech=-L_midleg_start\n",
    "            else: \n",
    "                roll=-1.5\n",
    "                fly0.strech=-R_midleg_start\n",
    "        else:\n",
    "            roll = roll_lin[i_roll]   #once finished, stay at 1.5\n",
    "            if side=='L':\n",
    "                fly0.strech=L_midleg_stretch[i_roll]\n",
    "            else: \n",
    "                fly0.strech=R_midleg_stretch[i_roll]\n",
    "\n",
    "\n",
    "\n",
    "        if abs(previous_angle-real_angle)<10: use_angle = real_angle\n",
    "        else : use_angle = previous_angle\n",
    "\n",
    "        if i_roll==0: #if iterations is 0 modulo target_num_steps -> compute the new order to smooth out the movement\n",
    "            if side=='L':\n",
    "                joint_value = obs0[\"joints\"][0][7]\n",
    "                #use_angle-= np.deg2rad(90)\n",
    "                yaw_lin = np.linspace(joint_value, use_angle, target_num_steps)            \n",
    "\n",
    "            else : \n",
    "                joint_value = obs0[\"joints\"][0][28]\n",
    "                yaw_lin = - np.linspace(joint_value, use_angle, target_num_steps)\n",
    "            \n",
    "        yam_history.append(obs0[\"joints\"][0][7])\n",
    "\n",
    "        fly0.middle_stance_ids=middle_stance_ids[i_roll]\n",
    "        #print(roll)\n",
    "        fly0_action = fly0.simulate_step(sim, roll_angle=roll, yaw_angle=yaw_lin[i_roll], side=side) #action to follow the intruder \n",
    "\n",
    "        #update i roll and check if the movement is finished\n",
    "        i_roll+=1\n",
    "        if i_roll % target_num_steps == 0 : \n",
    "            roll_finished=True\n",
    "            i_roll=0\n",
    "\n",
    "    #compute the case where the fly is not in the range anymore -> linespace roll a l'envers et linespace vers 0 pour yaw\n",
    "\n",
    "    ########################## If no detection ###############################\n",
    "    else:\n",
    "        fly0_action = {\"joints\": standing_action, \"adhesion\": np.array([1,0,1,1,0,1])} #the fly stay still\n",
    "\n",
    "    previous_distances_sma = distances_sma\n",
    "\n",
    "    \n",
    "cam.save_video(\"./outputs/cpg_controller_with_adhesionX.mp4\", 0)\n",
    "cam1.save_video(\"./outputs/kinematic_B_replay1X.mp4\")"
   ]
  },
  {
   "cell_type": "code",
   "execution_count": 10,
   "metadata": {},
   "outputs": [
    {
     "data": {
      "text/html": [
       "<video src=\"./outputsfrontCam.mp4\" controls  >\n",
       "      Your browser does not support the <code>video</code> element.\n",
       "    </video>"
      ],
      "text/plain": [
       "<IPython.core.display.Video object>"
      ]
     },
     "execution_count": 10,
     "metadata": {},
     "output_type": "execute_result"
    }
   ],
   "source": [
    "camFront.save_video(\"./outputsfrontCam.mp4\", 1)\n",
    "display.Video(\"./outputsfrontCam.mp4\")"
   ]
  },
  {
   "cell_type": "code",
   "execution_count": 11,
   "metadata": {},
   "outputs": [
    {
     "data": {
      "text/html": [
       "<video src=\"./outputs/cpg_controller_with_adhesionX.mp4\" controls  >\n",
       "      Your browser does not support the <code>video</code> element.\n",
       "    </video>"
      ],
      "text/plain": [
       "<IPython.core.display.Video object>"
      ]
     },
     "execution_count": 11,
     "metadata": {},
     "output_type": "execute_result"
    }
   ],
   "source": [
    "cam.save_video(\"./outputs/cpg_controller_with_adhesionX.mp4\", 0)\n",
    "\n",
    "display.Video(\"./outputs/cpg_controller_with_adhesionX.mp4\")"
   ]
  },
  {
   "cell_type": "code",
   "execution_count": 12,
   "metadata": {},
   "outputs": [],
   "source": [
    "birdeye_cam_frames = cam._frames\n",
    "cam._frames = second_cam_frames"
   ]
  },
  {
   "cell_type": "code",
   "execution_count": 13,
   "metadata": {},
   "outputs": [
    {
     "name": "stderr",
     "output_type": "stream",
     "text": [
      "WARNING:imageio_ffmpeg:IMAGEIO FFMPEG_WRITER WARNING: input image is not divisible by macro_block_size=16, resizing from (700, 715) to (704, 720) to ensure video compatibility with most codecs and players. To prevent resizing, make your input image divisible by the macro_block_size or set the macro_block_size to 1 (risking incompatibility).\n"
     ]
    }
   ],
   "source": [
    "sim.fly = fly0\n",
    "\n",
    "save_video_with_vision_insets(\n",
    "    sim,\n",
    "    cam,\n",
    "    \"example/BadMouvement.mp4\",\n",
    "    fly0.visual_inputs_hist,\n",
    ")"
   ]
  },
  {
   "cell_type": "code",
   "execution_count": 14,
   "metadata": {},
   "outputs": [
    {
     "data": {
      "text/html": [
       "<video src=\"./example/BadMouvement.mp4\" controls  >\n",
       "      Your browser does not support the <code>video</code> element.\n",
       "    </video>"
      ],
      "text/plain": [
       "<IPython.core.display.Video object>"
      ]
     },
     "execution_count": 14,
     "metadata": {},
     "output_type": "execute_result"
    }
   ],
   "source": [
    "display.Video(\"./example/BadMouvement.mp4\")"
   ]
  },
  {
   "cell_type": "code",
   "execution_count": 15,
   "metadata": {},
   "outputs": [
    {
     "data": {
      "text/html": [
       "<video src=\"./outputs/kinematic_B_replay1X.mp4\" controls  >\n",
       "      Your browser does not support the <code>video</code> element.\n",
       "    </video>"
      ],
      "text/plain": [
       "<IPython.core.display.Video object>"
      ]
     },
     "execution_count": 15,
     "metadata": {},
     "output_type": "execute_result"
    }
   ],
   "source": [
    "display.Video(\"./outputs/kinematic_B_replay1X.mp4\")"
   ]
  },
  {
   "cell_type": "code",
   "execution_count": 16,
   "metadata": {},
   "outputs": [
    {
     "data": {
      "image/png": "[encoded data removed]",
      "text/plain": [
       "<Figure size 640x480 with 1 Axes>"
      ]
     },
     "metadata": {},
     "output_type": "display_data"
    },
    {
     "data": {
      "text/plain": [
       "<Figure size 640x480 with 0 Axes>"
      ]
     },
     "metadata": {},
     "output_type": "display_data"
    }
   ],
   "source": [
    "distances_sma_hist\n",
    "time_points = np.arange(0, int(run_time/timestep), 1)\n",
    "plt.plot(time_points,distances_sma_hist )\n",
    "# Add a threshold line\n",
    "threshold = 8\n",
    "plt.axhline(y=threshold, color='r', linestyle='--', label='Threshold')\n",
    "\n",
    "# Add labels and legend\n",
    "plt.xlabel('frame')\n",
    "plt.ylabel('distance')\n",
    "plt.title('Distance in the view of static Fly')\n",
    "plt.legend()\n",
    "\n",
    "# Show the plot\n",
    "plt.show()\n",
    "plt.savefig('./example/distanceFly0.png')"
   ]
  },
  {
   "cell_type": "code",
   "execution_count": 17,
   "metadata": {},
   "outputs": [
    {
     "name": "stderr",
     "output_type": "stream",
     "text": [
      "WARNING:matplotlib.legend:No artists with labels found to put in legend.  Note that artists whose label start with an underscore are ignored when legend() is called with no argument.\n"
     ]
    },
    {
     "data": {
      "image/png": "[encoded data removed]",
      "text/plain": [
       "<Figure size 640x480 with 1 Axes>"
      ]
     },
     "metadata": {},
     "output_type": "display_data"
    },
    {
     "data": {
      "text/plain": [
       "<Figure size 640x480 with 0 Axes>"
      ]
     },
     "metadata": {},
     "output_type": "display_data"
    }
   ],
   "source": [
    "plt.plot(time_points,theta_pred_sma_hist)\n",
    "# Add a threshold line\n",
    "\n",
    "# Add labels and legend\n",
    "plt.xlabel('Frame')\n",
    "plt.ylabel('angle theta')\n",
    "plt.title('Plot with Threshold Line')\n",
    "plt.legend()\n",
    "\n",
    "# Show the plot\n",
    "plt.show()\n",
    "plt.savefig('./example/angleFly0.png')"
   ]
  },
  {
   "cell_type": "code",
   "execution_count": 18,
   "metadata": {},
   "outputs": [
    {
     "name": "stderr",
     "output_type": "stream",
     "text": [
      "WARNING:matplotlib.legend:No artists with labels found to put in legend.  Note that artists whose label start with an underscore are ignored when legend() is called with no argument.\n"
     ]
    },
    {
     "data": {
      "image/png": "[encoded data removed]",
      "text/plain": [
       "<Figure size 640x480 with 1 Axes>"
      ]
     },
     "metadata": {},
     "output_type": "display_data"
    }
   ],
   "source": [
    "# Function to calculate x and y coordinates given angle and distance\n",
    "def calculate_trajectory(angle, distance):\n",
    "    x = distance * np.cos(angle)  # Calculate x coordinate\n",
    "    y = distance * np.sin(angle)  # Calculate y coordinate\n",
    "    return x, y\n",
    "\n",
    "x=[]\n",
    "y=[]\n",
    "# Calculate trajectory for each combination of angle and distance\n",
    "for i in range(len(theta_pred_sma_hist)):\n",
    "    # Calculate trajectory\n",
    "    x.append(calculate_trajectory(theta_pred_sma_hist[i], distances_sma_hist[i])[0])\n",
    "    y.append(calculate_trajectory(theta_pred_sma_hist[i], distances_sma_hist[i])[1])\n",
    "# Add labels and legend\n",
    "plt.xlabel('x')\n",
    "plt.ylabel('y')\n",
    "plt.title('recomputation of the path')\n",
    "plt.legend()\n",
    "\n",
    "    \n",
    "# Show the plot\n",
    "plt.scatter(x, y)\n",
    "plt.savefig('./example/recompute_pathBad.png')"
   ]
  },
  {
   "cell_type": "code",
   "execution_count": 19,
   "metadata": {},
   "outputs": [],
   "source": [
    "plt.show()"
   ]
  },
  {
   "cell_type": "code",
   "execution_count": 20,
   "metadata": {},
   "outputs": [
    {
     "ename": "NameError",
     "evalue": "name 'mid_leg_end_effector' is not defined",
     "output_type": "error",
     "traceback": [
      "\u001b[1;31m---------------------------------------------------------------------------\u001b[0m",
      "\u001b[1;31mNameError\u001b[0m                                 Traceback (most recent call last)",
      "Cell \u001b[1;32mIn[20], line 1\u001b[0m\n\u001b[1;32m----> 1\u001b[0m end_eff_x \u001b[38;5;241m=\u001b[39m  \u001b[43mmid_leg_end_effector\u001b[49m[:, \u001b[38;5;241m0\u001b[39m, \u001b[38;5;241m0\u001b[39m]\n\u001b[0;32m      2\u001b[0m end_eff_y \u001b[38;5;241m=\u001b[39m mid_leg_end_effector[:, \u001b[38;5;241m0\u001b[39m, \u001b[38;5;241m1\u001b[39m]\n\u001b[0;32m      3\u001b[0m end_eff_z \u001b[38;5;241m=\u001b[39m mid_leg_end_effector[:, \u001b[38;5;241m0\u001b[39m, \u001b[38;5;241m2\u001b[39m]\n",
      "\u001b[1;31mNameError\u001b[0m: name 'mid_leg_end_effector' is not defined"
     ]
    }
   ],
   "source": [
    "end_eff_x =  mid_leg_end_effector[:, 0, 0]\n",
    "end_eff_y = mid_leg_end_effector[:, 0, 1]\n",
    "end_eff_z = mid_leg_end_effector[:, 0, 2]"
   ]
  },
  {
   "cell_type": "code",
   "execution_count": null,
   "metadata": {},
   "outputs": [],
   "source": [
    "plt.plot(end_eff_x, end_eff_y, label='R End Effector')\n",
    "plt.plot(end_eff_x, end_eff_z, label='R End Effector')\n",
    "plt.plot(end_eff_y, end_eff_z, label='R End Effector')"
   ]
  }
 ],
 "metadata": {
  "kernelspec": {
   "display_name": "flygym-v1",
   "language": "python",
   "name": "python3"
  },
  "language_info": {
   "codemirror_mode": {
    "name": "ipython",
    "version": 3
   },
   "file_extension": ".py",
   "mimetype": "text/x-python",
   "name": "python",
   "nbconvert_exporter": "python",
   "pygments_lexer": "ipython3",
   "version": "3.11.9"
  }
 },
 "nbformat": 4,
 "nbformat_minor": 2
}
