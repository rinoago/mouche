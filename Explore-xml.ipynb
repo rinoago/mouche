{
 "cells": [
  {
   "cell_type": "markdown",
   "metadata": {},
   "source": [
    "# How to read and understand the xml"
   ]
  },
  {
   "cell_type": "markdown",
   "metadata": {},
   "source": [
    "## The xml files"
   ]
  },
  {
   "cell_type": "markdown",
   "metadata": {},
   "source": [
    "In MuJoCo (the physics engine NeuroMechFly relies on), a xml file is used to describe the skeleton of the fly. In our implementation, the xmls define:\n",
    "- The skeleton of the fly: How bodies/geometries and joints are arranged to build a fly\n",
    "- The actuators: Different kind of object that are used to apply forces to the model (position actuator to move joints, adhesion actuators to add adhesion).\n",
    "\n",
    "\n",
    "The xml can also be modified in the code and that is how you will interact but for now let's walk through some key aspects of the xml file. \n",
    "\n",
    "**Note that we have different xml that use different kinematic chain as the order of joint matters.**\n",
    "\n",
    "Here is an example of a kinematic chain for one leg lets walk through it together:\n",
    "<p align=\"center\">\n",
    "    <img src=\"source/xml_kinematic_chain.png\" width=\"2000\" style=\"background-color: white;\"/>\n",
    "</p>\n",
    "\n",
    "\n",
    "At the top of this block of code is defined the worldbody it is used for the top-level body it cannot have child elements inertial and joint, and also cannot have any attributes. It corresponds to the origin of the world frame, within which the rest of the kinematic tree is defined.\n",
    "Attached to the woldbody, there is a regular body: the Thorax, the Thorax has a position (relative to the worldbody) and an orientation given by the quat parameter. The Thorax body has 7 direct children visible in this block of code (but many more in total: 6 legs, head, abdomen, halteres, ...):\n",
    "- A geometry: Thorax \n",
    "- Two other bodies: \n",
    "    - A1 (the first section of the abdomen)\n",
    "    - LFCoxa (the first segment of the left front leg) \n",
    "    - L/RWing\n",
    "    - L/RHaltere\n",
    "\n",
    "### The Thorax geometry:\n",
    "Geometries determine the appearance and collision properties of the body. At compile time they can also determine the inertial properties of the body, depending on the presence of the inertial element and the setting of the inertiafromgeom attribute of compiler. To get a sense of all the attributes a geometry can have go through the [MuJoCo documentation about geometries](https://mujoco.readthedocs.io/en/stable/XMLreference.html#body-geom)\n",
    "\n",
    "### Next bodies in the kinematic chain:\n",
    "As stated earlier many other bodies are attached to the Thorax body. Those define the next body in the kinematic chain. The position of the next body is given in relative position with respect to the parent body. If we focus on the Coxa body (line 121), the body is offset by -0.16059550642967224 0.1715880036354065 -0.23021531105041504 with respect to the origin of the Thorax body. By construction (this is a choice that we made) the origin of the body is in most cases the position of the joint between the parent and the child body (here the Thorax coxa joint).\n",
    "The LFCoxa body has 5 different children:\n",
    "- 3 joints that defines the three degrees of freedom of the Thorax-Coxa joint. As discussed earlier those are not offset to the parents as the LFCoxa body is located at the location of the joint (for more information regarding the joints have a look at the [MuJoCo documentation](https://mujoco.readthedocs.io/en/stable/XMLreference.html#body-joint)). Note that the order of the joints matters. When actuated or when reading out of a sensor now that the first dof will be applied/readout followed by the second and the third. This matters as depending on the order different configurations of the children body will be obtained. \n",
    "- The LFCoxa geometry. Same structure and role as before. We might want to spend more time discussing the **mesh** attribute of the geometry. Meshes are used to describe the complex shapes of objects. Here this relies on the CT scan of the fly obtained for the [NeuroMechFly paper](https://www.nature.com/articles/s41592-022-01466-7#Sec39). The geometries are **not** offset, this is because the origin of each files containing the mesh is the location of the joint. As the origin of the bodies are also located at the joint location, there is no need for an offset. **Those are all convention we used, it is important that you are aware of those when adding joints, sensors and actuators.**\n",
    "- The LFFemur body. The next body in the kinematic chain.\n",
    "\n",
    "### Camera and lighting:\n",
    "<p align=\"center\">\n",
    "    <img src=\"source/xml_cameras.png\" width=\"2000\" style=\"background-color: white;\"/>\n",
    "</p>\n",
    "\n",
    "Cameras and lighting can be added to bodies. In this code samples cameras and lighting are added to the worldbody. In the code it is from those cameras that we are rendering. More information about the [cameras](https://mujoco.readthedocs.io/en/stable/XMLreference.html#body-camera) and the [lighting](https://mujoco.readthedocs.io/en/stable/XMLreference.html#body-light) can be found in the xml documentation. Especially important is the mode that defines how the camera moves with respect to the body it is attached to.\n",
    "\n",
    "### Actuators:\n",
    "<p align=\"center\">\n",
    "    <img src=\"source/xml_actuators.png\" width=\"2000\" style=\"background-color: white;\"/>\n",
    "</p>\n",
    "\n",
    "Actuators are applying forces to the model. Many type of actuators can be used in MuJoCo those are summarized in the [documentation](https://mujoco.readthedocs.io/en/stable/XMLreference.html#actuators).\n",
    "We are particularly interested to [position actuators](https://mujoco.readthedocs.io/en/stable/XMLreference.html#actuator-position) and [adhesion actuators](https://mujoco.readthedocs.io/en/stable/XMLreference.html#actuator-adhesion).\n",
    "\n",
    "### Sensors:\n",
    "No sensors are added directly to the xml file. More information about sensors can be found in the [MuJoco documentation](https://mujoco.readthedocs.io/en/stable/XMLreference.html#sensor).\n",
    "\n",
    "These are all the relevant information regarding the xml. More general and precise information can be found in the [MuJoCo xml documentation](https://mujoco.readthedocs.io/en/stable/XMLreference.html)."
   ]
  },
  {
   "cell_type": "markdown",
   "metadata": {},
   "source": [
    "## Modifying the xml through the code:"
   ]
  },
  {
   "cell_type": "markdown",
   "metadata": {},
   "source": [
    "While the most basic features of NeuroMechFly must be defined in the .xml more flexibility can be obtained by defining some features in the code. In particular it is interesting for a user to be able to use new sensors, actuators, cameras, bodies and geometries as well as modifying the relevant attributes of those features. All those addition through the code are performed in the __init__ of the NeuroMechFly class.\n",
    "Here are a few examples showing how we can add new joints, actuators and sensors to NeuroMechFly.\n",
    "\n",
    "Here is the line of code that builds the physics from the xml. After this point if the model is modified the change will not apply.\n",
    "\n",
    "```Python\n",
    "self.physics = mjcf.Physics.from_mjcf_model(self.arena_root)\n",
    "```\n",
    "\n",
    "Before that, the xml defining the fly was modified to add actuators, sensors and change the joints properties among other. The fly was then spawn into the arena that was fully defined through the code. Lets look in more details how actuators, sensors and joints are added/(modified and how those functions could be overwritten to add new actuators)."
   ]
  },
  {
   "cell_type": "code",
   "execution_count": 16,
   "metadata": {},
   "outputs": [],
   "source": [
    "from flygym.mujoco import Parameters, NeuroMechFly"
   ]
  },
  {
   "cell_type": "markdown",
   "metadata": {},
   "source": [
    "### Add joints"
   ]
  },
  {
   "cell_type": "markdown",
   "metadata": {},
   "source": [
    "While in the new api one can initialize a fly and add joint before the physics is built, this not possible in the old API. For that reason, we have to go for a less elegant solution. \n",
    "\n",
    "For now we propose to override the function modifying the joint's properties: \n",
    "\n",
    "```Python\n",
    "def _set_joints_stiffness_and_damping(self):\n",
    "    for joint in self.model.find_all(\"joint\"):\n",
    "        if joint.name in self.actuated_joints:\n",
    "            joint.stiffness = self.sim_params.joint_stiffness\n",
    "            joint.damping = self.sim_params.joint_damping\n",
    "        else:\n",
    "            joint.stiffness = self.sim_params.non_actuated_joint_stiffness\n",
    "            joint.damping = self.sim_params.non_actuated_joint_damping\n",
    "```\n",
    "\n",
    "Let's modify this function so that it adds a new joint to NeuroMechFly\n"
   ]
  },
  {
   "cell_type": "code",
   "execution_count": 17,
   "metadata": {},
   "outputs": [],
   "source": [
    "class AbdomenNMF(NeuroMechFly):\n",
    "    def _set_joints_stiffness_and_damping(self):\n",
    "        # Do not forget to call the parent method\n",
    "        super()._set_joints_stiffness_and_damping()\n",
    "\n",
    "        # Set the abdomen joints stiffness and damping\n",
    "        for body_name in [\"A1A2\", \"A3\", \"A4\", \"A5\", \"A6\"]:\n",
    "            body = self.model.find(\"body\", body_name)\n",
    "            # add pitch degree of freedom to bed the abdomen\n",
    "            body.add(\n",
    "                \"joint\",\n",
    "                name=f\"joint_{body_name}\",\n",
    "                type=\"hinge\",\n",
    "                pos=\"0 0 0\",\n",
    "                axis=\"0 1 0\",\n",
    "                stiffness=5.0,\n",
    "                springref=0.0,\n",
    "                damping=5.0,\n",
    "                dclass=\"nmf\",\n",
    "            )\n",
    "\n",
    "\n",
    "abd_nmf = AbdomenNMF(Parameters())"
   ]
  },
  {
   "cell_type": "code",
   "execution_count": 18,
   "metadata": {},
   "outputs": [
    {
     "name": "stdout",
     "output_type": "stream",
     "text": [
      "The abdomen joints were properly defined.\n"
     ]
    }
   ],
   "source": [
    "try:\n",
    "    abd_nmf.physics.model.jnt(\"Animat/joint_A1A2\")\n",
    "except:\n",
    "    raise (\"The abdoment joints were NOT properly defined.\")\n",
    "else:\n",
    "    print(\"The abdomen joints were properly defined.\")"
   ]
  },
  {
   "cell_type": "markdown",
   "metadata": {},
   "source": [
    "### Add actuators"
   ]
  },
  {
   "cell_type": "markdown",
   "metadata": {},
   "source": [
    "While in the new api one can initialize a fly and add actuators before the physics is built, this not possible in the old API. For that reason, we have to go for a less elegant solution.\n",
    "\n",
    "For now we propose to override the function adding the adhesion actuators: \n",
    "\n",
    "```Python\n",
    "    def _add_adhesion_actuators(self, gain):\n",
    "        adhesion_actuators = []\n",
    "        for name in self._last_tarsalseg_names:\n",
    "            adhesion_actuators.append(\n",
    "                self.model.actuator.add(\n",
    "                    \"adhesion\",\n",
    "                    name=f\"{name}_adhesion\",\n",
    "                    gain=f\"{gain}\",\n",
    "                    body=name,\n",
    "                    ctrlrange=\"0 1000000\",\n",
    "                    forcerange=\"-inf inf\",\n",
    "                )\n",
    "            )\n",
    "        return adhesion_actuators\n",
    "```\n",
    "\n",
    "Let's modify this function so that it adds new actuators to AbdomenNMF\n"
   ]
  },
  {
   "cell_type": "code",
   "execution_count": 19,
   "metadata": {},
   "outputs": [],
   "source": [
    "class ActuatedAbdomenNMF(NeuroMechFly):\n",
    "    def _set_joints_stiffness_and_damping(self):\n",
    "        # Do not forget to call the parent method\n",
    "        super()._set_joints_stiffness_and_damping()\n",
    "\n",
    "        # Set the abdomen joints stiffness and damping\n",
    "        for body_name in [\"A1A2\", \"A3\", \"A4\", \"A5\", \"A6\"]:\n",
    "            body = self.model.find(\"body\", body_name)\n",
    "            # add pitch degree of freedom to bed the abdomen\n",
    "            body.add(\n",
    "                \"joint\",\n",
    "                name=f\"joint_{body_name}\",\n",
    "                type=\"hinge\",\n",
    "                pos=\"0 0 0\",\n",
    "                axis=\"0 1 0\",\n",
    "                stiffness=5.0,\n",
    "                springref=0.0,\n",
    "                damping=5.0,\n",
    "                dclass=\"nmf\",\n",
    "            )\n",
    "\n",
    "            # adding the actuated joints to the list of actuated joints her implies there will be a sensor per leg joint\n",
    "            # if added later that would not be the case (just be aware of the differences)\n",
    "            self.actuated_joints.append(f\"joint_{body_name}\")\n",
    "\n",
    "    def _add_adhesion_actuators(self, gain):\n",
    "        for body_name in [\"A1A2\", \"A3\", \"A4\", \"A5\", \"A6\"]:\n",
    "            joint = self.model.find(\"joint\", f\"joint_{body_name}\")\n",
    "            actuator = self.model.actuator.add(\n",
    "                \"position\",\n",
    "                name=f\"actuator_position_joint_{body_name}\",\n",
    "                joint=joint,\n",
    "                forcelimited=\"true\",\n",
    "                ctrlrange=\"-1000000 1000000\",\n",
    "                forcerange=\"-10 10\",\n",
    "                kp=self.sim_params.actuator_kp,\n",
    "                dclass=\"nmf\",\n",
    "            )\n",
    "\n",
    "            # this is needed if you do not want to override add joint sensors\n",
    "            vel_actuator = self.model.actuator.add(\n",
    "                \"velocity\",\n",
    "                name=f\"actuator_velocity_joint_{body_name}\",\n",
    "                joint=joint,\n",
    "                dclass=\"nmf\",\n",
    "            )\n",
    "            torque_actuator = self.model.actuator.add(\n",
    "                \"motor\",\n",
    "                name=f\"actuator_torque_joint_{body_name}\",\n",
    "                joint=joint,\n",
    "                dclass=\"nmf\",\n",
    "            )\n",
    "            # self.actuated_joints.append(joint)\n",
    "            self._actuators.append(actuator)\n",
    "\n",
    "        return super()._add_adhesion_actuators(gain)"
   ]
  },
  {
   "cell_type": "code",
   "execution_count": 21,
   "metadata": {},
   "outputs": [],
   "source": [
    "from flygym.mujoco.examples.common import PreprogrammedSteps\n",
    "import numpy as np\n",
    "\n",
    "preprogrammed_steps = PreprogrammedSteps()\n",
    "leg_action = []\n",
    "for leg in preprogrammed_steps.legs:\n",
    "    # fly is standing\n",
    "    leg_action.extend(preprogrammed_steps.get_joint_angles(leg, 0.0))\n",
    "\n",
    "act_abd_nmf = ActuatedAbdomenNMF(Parameters())\n",
    "\n",
    "run_time = 0.5\n",
    "target_num_steps = int(run_time / act_abd_nmf.timestep)\n",
    "\n",
    "abdomen_control = np.sin(\n",
    "    2 * 2 * np.pi * np.linspace(0, run_time, target_num_steps) / run_time\n",
    ")\n",
    "# scale abdomen control between -pi/10 and 3pi/10\n",
    "abdomen_control = abdomen_control * np.pi / 5 + np.pi / 10\n",
    "\n",
    "# run a simulation and bend the abdomen\n",
    "obs, info = act_abd_nmf.reset()\n",
    "for i in range(target_num_steps):\n",
    "    # # here, we simply use the recorded joint angles as the target joint angles\n",
    "    joint_pos = np.hstack([leg_action, abdomen_control[i] * np.ones(5)])\n",
    "    action = {\"joints\": joint_pos}\n",
    "    obs, reward, terminated, truncated, info = act_abd_nmf.step(action)\n",
    "    act_abd_nmf.render()\n",
    "\n",
    "act_abd_nmf.save_video(\"bend_abdomen.mp4\", 0)"
   ]
  },
  {
   "cell_type": "markdown",
   "metadata": {},
   "source": [
    "### Add sensors"
   ]
  },
  {
   "cell_type": "markdown",
   "metadata": {},
   "source": [
    "While in the new api one can initialize a fly and add sensors before the physics is built, this not possible in the old API. For that reason, we have to go for a less elegant solution. \n",
    "\n",
    "For now we propose to override different functions depending on the required sensors (_add_joint_sensors for joint related sensors, _add_body_sensors for global sensors,_add_odour_sensors for higher level sensors, add_end_effector_sensor for absolute position sensors and _add_force_sensors for force and touch sensors)\n",
    "\n",
    "```Python\n",
    "     def _add_joint_sensors(self):\n",
    "        joint_sensors = []\n",
    "        for joint in self.actuated_joints:\n",
    "            joint_sensors.extend(\n",
    "                [\n",
    "                    self.model.sensor.add(\n",
    "                        \"jointpos\", name=f\"jointpos_{joint}\", joint=joint\n",
    "                    ),\n",
    "                    self.model.sensor.add(\n",
    "                        \"jointvel\", name=f\"jointvel_{joint}\", joint=joint\n",
    "                    ),\n",
    "                    self.model.sensor.add(\n",
    "                        \"actuatorfrc\",\n",
    "                        name=f\"actuatorfrc_position_{joint}\",\n",
    "                        actuator=f\"actuator_position_{joint}\",\n",
    "                    ),\n",
    "                    self.model.sensor.add(\n",
    "                        \"actuatorfrc\",\n",
    "                        name=f\"actuatorfrc_velocity_{joint}\",\n",
    "                        actuator=f\"actuator_velocity_{joint}\",\n",
    "                    ),\n",
    "                    self.model.sensor.add(\n",
    "                        \"actuatorfrc\",\n",
    "                        name=f\"actuatorfrc_motor_{joint}\",\n",
    "                        actuator=f\"actuator_torque_{joint}\",\n",
    "                    ),\n",
    "                ]\n",
    "            )\n",
    "        return joint_sensors\n",
    "\n",
    "    def _add_body_sensors(self):\n",
    "        lin_pos_sensor = self.model.sensor.add(\n",
    "            \"framepos\", name=\"thorax_pos\", objtype=\"body\", objname=\"Thorax\"\n",
    "        )\n",
    "        lin_vel_sensor = self.model.sensor.add(\n",
    "            \"framelinvel\", name=\"thorax_linvel\", objtype=\"body\", objname=\"Thorax\"\n",
    "        )\n",
    "        ang_pos_sensor = self.model.sensor.add(\n",
    "            \"framequat\", name=\"thorax_quat\", objtype=\"body\", objname=\"Thorax\"\n",
    "        )\n",
    "        ang_vel_sensor = self.model.sensor.add(\n",
    "            \"frameangvel\", name=\"thorax_angvel\", objtype=\"body\", objname=\"Thorax\"\n",
    "        )\n",
    "        orient_sensor = self.model.sensor.add(\n",
    "            \"framezaxis\", name=\"thorax_orient\", objtype=\"body\", objname=\"Thorax\"\n",
    "        )\n",
    "        return [\n",
    "            lin_pos_sensor,\n",
    "            lin_vel_sensor,\n",
    "            ang_pos_sensor,\n",
    "            ang_vel_sensor,\n",
    "            orient_sensor,\n",
    "        ]\n",
    "\n",
    "    def _add_end_effector_sensors(self):\n",
    "        end_effector_sensors = []\n",
    "        for name in self._last_tarsalseg_names:\n",
    "            sensor = self.model.sensor.add(\n",
    "                \"framepos\",\n",
    "                name=f\"{name}_pos\",\n",
    "                objtype=\"body\",\n",
    "                objname=name,\n",
    "            )\n",
    "            end_effector_sensors.append(sensor)\n",
    "        return end_effector_sensors\n",
    "\n",
    "    def _add_odor_sensors(self):\n",
    "        antennae_sensors = []\n",
    "        for name, specs in self._mujoco_config[\"olfaction\"][\"sensor_positions\"].items():\n",
    "            parent_body = self.model.find(\"body\", specs[\"parent\"])\n",
    "            sensor_body = parent_body.add(\n",
    "                \"body\", name=f\"{name}_body\", pos=specs[\"rel_pos\"]\n",
    "            )\n",
    "            sensor = self.model.sensor.add(\n",
    "                \"framepos\",\n",
    "                name=f\"{name}_pos_sensor\",\n",
    "                objtype=\"body\",\n",
    "                objname=f\"{name}_body\",\n",
    "            )\n",
    "            antennae_sensors.append(sensor)\n",
    "            if self.sim_params.draw_sensor_markers:\n",
    "                sensor_body.add(\n",
    "                    \"geom\",\n",
    "                    name=f\"{name}_marker\",\n",
    "                    type=\"sphere\",\n",
    "                    size=[0.06],\n",
    "                    rgba=specs[\"marker_rgba\"],\n",
    "                )\n",
    "        return antennae_sensors\n",
    "\n",
    "    def _add_force_sensors(self):\n",
    "        \"\"\"\n",
    "        Add force sensors to the tracked bodies\n",
    "        Without them the cfrc_ext is zero\n",
    "        Returns\n",
    "        -------\n",
    "        All force sensors\n",
    "        \"\"\"\n",
    "        force_sensors = []\n",
    "        for tracked_geom in self.contact_sensor_placements:\n",
    "            body = self.model.find(\"body\", tracked_geom)\n",
    "            site = body.add(\n",
    "                \"site\",\n",
    "                name=f\"{tracked_geom}_site\",\n",
    "                pos=[0, 0, 0],\n",
    "                size=np.ones(3) * 0.005,\n",
    "            )\n",
    "            force_sensor = self.model.sensor.add(\n",
    "                \"force\", name=f\"force_{body.name}\", site=site.name\n",
    "            )\n",
    "            force_sensors.append(force_sensor)\n",
    "\n",
    "        return force_sensors\n",
    "\n",
    "```\n",
    "\n",
    "Let's modify the _joint_sensors_to get the deflection of the arista. For the force sensor be aware that the way, they are used are special (c.f the get_observation function. If unclear ask the TAs about it).\n"
   ]
  },
  {
   "cell_type": "code",
   "execution_count": 6,
   "metadata": {},
   "outputs": [
    {
     "data": {
      "text/plain": [
       "[MJCF Element: <jointpos name=\"jointpos_LArista\" joint=\"joint_LArista\"/>,\n",
       " MJCF Element: <jointpos name=\"jointpos_RArista\" joint=\"joint_RArista\"/>]"
      ]
     },
     "execution_count": 6,
     "metadata": {},
     "output_type": "execute_result"
    }
   ],
   "source": [
    "from typing import Any, Dict, Tuple\n",
    "\n",
    "\n",
    "class AristaNMF(NeuroMechFly):\n",
    "    def _set_joints_stiffness_and_damping(self):\n",
    "        for joint in self.model.find_all(\"joint\"):\n",
    "            if joint.name in self.actuated_joints:\n",
    "                joint.stiffness = self.sim_params.joint_stiffness\n",
    "                joint.damping = self.sim_params.joint_damping\n",
    "            elif \"Arista\" in joint.name:\n",
    "                joint.stiffness = 0.002\n",
    "                joint.damping = 1e-5\n",
    "            else:\n",
    "                joint.stiffness = self.sim_params.non_actuated_joint_stiffness\n",
    "                joint.damping = self.sim_params.non_actuated_joint_damping\n",
    "\n",
    "    def _add_joint_sensors(self):\n",
    "        self._arista_sensors = []\n",
    "\n",
    "        for side in \"LR\":\n",
    "            arista_sensor = self.model.sensor.add(\n",
    "                \"jointpos\", name=f\"jointpos_{side}Arista\", joint=f\"joint_{side}Arista\"\n",
    "            )\n",
    "            self._arista_sensors.append(arista_sensor)\n",
    "\n",
    "        return super()._add_joint_sensors()\n",
    "\n",
    "    def get_observation(self):\n",
    "        obs = super().get_observation()\n",
    "        arista_obs = self.physics.bind(self._arista_sensors).sensordata\n",
    "        obs[\"arista_joint_pos\"] = arista_obs.copy()\n",
    "        return obs\n",
    "\n",
    "\n",
    "arista_nmf = AristaNMF(Parameters())\n",
    "arista_nmf._arista_sensors"
   ]
  },
  {
   "cell_type": "code",
   "execution_count": 7,
   "metadata": {},
   "outputs": [],
   "source": [
    "from flygym.mujoco.examples.common import PreprogrammedSteps\n",
    "import numpy as np\n",
    "\n",
    "obs_list = []\n",
    "\n",
    "arista_nmf = AristaNMF(\n",
    "    Parameters(render_camera=\"Animat/camera_front_zoomin\", render_playspeed=0.02)\n",
    ")\n",
    "run_time = 0.1\n",
    "target_num_steps = int(run_time / act_abd_nmf.timestep)\n",
    "action = {\"joints\": leg_action}\n",
    "\n",
    "# run a simulation and bend the abdomen\n",
    "obs, info = arista_nmf.reset()\n",
    "for i in range(target_num_steps):\n",
    "    # # here, we simply use the recorded joint angles as the target joint angles\n",
    "    obs, reward, terminated, truncated, info = arista_nmf.step(action)\n",
    "    obs_list.append(obs)\n",
    "\n",
    "    arista_nmf.render()\n",
    "\n",
    "arista_nmf.save_video(\"arista.mp4\", 0)"
   ]
  },
  {
   "cell_type": "code",
   "execution_count": 8,
   "metadata": {},
   "outputs": [
    {
     "data": {
      "image/png": "[encoded data removed]",
      "text/plain": [
       "<Figure size 1200x400 with 1 Axes>"
      ]
     },
     "metadata": {},
     "output_type": "display_data"
    }
   ],
   "source": [
    "import matplotlib.pyplot as plt\n",
    "\n",
    "arista_joint = np.array([obs[\"arista_joint_pos\"] for obs in obs_list])\n",
    "time = np.linspace(0, run_time, target_num_steps) * arista_nmf.timestep\n",
    "plt.figure(figsize=(12, 4))\n",
    "\n",
    "plt.plot(time, arista_joint)\n",
    "plt.xlabel(\"Time (s)\")\n",
    "plt.ylabel(\"Arista joint angle (rad)\")\n",
    "plt.show()"
   ]
  },
  {
   "cell_type": "markdown",
   "metadata": {},
   "source": [
    "### Modifying the arena"
   ]
  },
  {
   "cell_type": "markdown",
   "metadata": {},
   "source": [
    "The arenas are defined under flygym/mujoco/arena you can already find a ton of inspiration there. Here we will build an arena with a capsule in it's center half buried in the ground. From that we will inherit from the FlatTerrain."
   ]
  },
  {
   "cell_type": "code",
   "execution_count": 9,
   "metadata": {},
   "outputs": [],
   "source": [
    "from flygym.mujoco.arena import FlatTerrain\n",
    "\n",
    "\n",
    "class CapsuleTerrain(FlatTerrain):\n",
    "    def __init__(self):\n",
    "        super().__init__()\n",
    "\n",
    "        capsule = self.root_element.worldbody.add(\n",
    "            \"geom\",\n",
    "            type=\"capsule\",\n",
    "            name=\"ground_capsule\",\n",
    "            friction=\"1 0.005 0.0001\",\n",
    "            fromto=\"2.0 -1.0 0.0 2.0 1.0 0.0\",\n",
    "            size=\"0.5\",\n",
    "        )\n",
    "\n",
    "        # Here you could also add collision groups to the capsule just like it is done in the NeuroMechFly class\n",
    "\n",
    "\n",
    "caps_terr = CapsuleTerrain()"
   ]
  },
  {
   "cell_type": "code",
   "execution_count": 10,
   "metadata": {},
   "outputs": [
    {
     "data": {
      "image/png": "[encoded data removed]",
      "text/plain": [
       "<Figure size 640x480 with 1 Axes>"
      ]
     },
     "metadata": {},
     "output_type": "display_data"
    }
   ],
   "source": [
    "nmf = NeuroMechFly(\n",
    "    Parameters(render_camera=\"Animat/camera_top_right\"), arena=CapsuleTerrain()\n",
    ")\n",
    "obs = nmf.reset()\n",
    "nmf.step({\"joints\": leg_action})\n",
    "nmf.render()\n",
    "\n",
    "plt.imshow(nmf._frames[-1], origin=\"upper\")\n",
    "plt.axis(\"off\")\n",
    "plt.show()"
   ]
  },
  {
   "cell_type": "markdown",
   "metadata": {},
   "source": [
    "# Foraging the Mujoco documentation"
   ]
  },
  {
   "cell_type": "markdown",
   "metadata": {},
   "source": [
    "When trying to implement new functionalities for NeuroMechFly one can rely on MuJoCo to provide the appropriate tools. The MuJoCo documentation is quite complete (at least for the cpp) version but is also very dense. Here is an example on how one can navigate it to implement wind in NeuroMechFly.\n",
    "\n",
    "The first step is to check wether wind is already implemented in MuJoCo. A simple Ctrl+F in the [xml documentation](https://mujoco.readthedocs.io/en/stable/XMLreference.html#xml-reference) is in my opinion the best way to check for that.\n",
    "\n",
    "<p align=\"center\">\n",
    "    <img src=\"source/xml_wind.png\" width=\"600\" style=\"background-color: white;\"/>\n",
    "</p>\n",
    "\n",
    "At this stage it is very important to carefully read what the documentation says:"
   ]
  },
  {
   "cell_type": "markdown",
   "metadata": {},
   "source": [
    "In particular, it is important to note that this wind implementation depends on the density and viscosity of the medium. Equally important is to notice where to instantiate the wind. By browsing the documentation you should get that this is done in the opt part of the physics. \n",
    "\n",
    "Now let's try to make the wind work. Here we have two options, add the wind in the xml or change it in the code. We will go for the second one as having a separate xml for wind seems not so practical."
   ]
  },
  {
   "cell_type": "code",
   "execution_count": 11,
   "metadata": {},
   "outputs": [],
   "source": [
    "class WindArena(FlatTerrain):\n",
    "    def __init__(\n",
    "        self,\n",
    "        wind_vector=[-100.0, 0, 0],\n",
    "        medium_density=0.01,\n",
    "        medium_viscosity=0.01,\n",
    "        **kwargs\n",
    "    ):\n",
    "        super().__init__(**kwargs)\n",
    "        self._add_wind(wind_vector, medium_density, medium_viscosity)\n",
    "\n",
    "    def _add_wind(self, wind_vector, medium_density, medium_viscosity):\n",
    "        # Here I directly change the fields of the xml option element\n",
    "        self.root_element.option.__setattr__(\"density\", medium_density)\n",
    "        self.root_element.option.__setattr__(\"viscosity\", medium_viscosity)\n",
    "        self.root_element.option.__setattr__(\"wind\", wind_vector)\n",
    "\n",
    "\n",
    "wind_arena = WindArena()"
   ]
  },
  {
   "cell_type": "code",
   "execution_count": 12,
   "metadata": {},
   "outputs": [],
   "source": [
    "wind_nmf = NeuroMechFly(arena=WindArena())\n",
    "\n",
    "run_total_time = 0.5\n",
    "target_num_steps = int(run_total_time / wind_nmf.timestep)\n",
    "\n",
    "# run a simulation with wind\n",
    "for i in range(target_num_steps):\n",
    "    obs, reward, terminated, truncated, info = wind_nmf.step({\"joints\": leg_action})\n",
    "    wind_nmf.render()"
   ]
  },
  {
   "cell_type": "code",
   "execution_count": 13,
   "metadata": {},
   "outputs": [],
   "source": [
    "wind_nmf.save_video(\"wind.mp4\", 0)"
   ]
  },
  {
   "cell_type": "markdown",
   "metadata": {},
   "source": [
    "# Delving deeper into MuJoCo-NeuroMechFly interraction"
   ]
  },
  {
   "cell_type": "markdown",
   "metadata": {},
   "source": [
    "Once the physics have been built, making changes to the model will have no more impact. Still some modifications can be made at runtime. This is done by interacting directly with the physics. Interacting with the physics object is particularly useful to debug the simulation or check that the changes you added have been properly implemented and are reflected as expected in the physics.\n",
    "There is no great documentation explaining how to interact with the physics object. One can inspire from the [MuJoCo C++ API documentation](https://mujoco.readthedocs.io/en/stable/APIreference/APItypes.html#types) as they mostly have a python counterpart or directly from the very thin (look at tutorial.ipynb) [dm_control documentation](https://github.com/google-deepmind/dm_control) (the python wrapper we are using for MuJoCo).\n",
    "\n",
    "One can access the equivalent of [mjModel](https://mujoco.readthedocs.io/en/stable/APIreference/APItypes.html#tymodelenums) through ```nmf.physics.model```\n",
    " \n",
    "One can access the equivalent of [mjData](https://mujoco.readthedocs.io/en/stable/APIreference/APItypes.html#tydataenums) through ```nmf.physics.data```\n",
    "\n",
    "Feel free to explore more how those different fields could be useful. Here are a few examples."
   ]
  },
  {
   "cell_type": "code",
   "execution_count": 14,
   "metadata": {},
   "outputs": [
    {
     "name": "stdout",
     "output_type": "stream",
     "text": [
      "Contact between ground and Animat/LFTarsus5 at exact position [ 1.09361232  0.69942419 -0.00492624]\n",
      "Contact between ground and Animat/LFTarsus5 at exact position [ 1.08530880e+00  6.80252417e-01 -3.69478022e-04]\n",
      "Contact between ground and Animat/LFTarsus5 at exact position [ 1.08728937e+00  6.79546341e-01 -2.67793193e-04]\n",
      "Contact between ground and Animat/LHTarsus5 at exact position [-1.99621462  0.59255246 -0.0028832 ]\n",
      "Contact between ground and Animat/LMTarsus5 at exact position [-0.90653766  1.31884173 -0.00256492]\n",
      "Contact between ground and Animat/LMTarsus5 at exact position [-9.05334259e-01  1.29697185e+00 -1.47083994e-04]\n",
      "Contact between ground and Animat/RHTarsus5 at exact position [-1.99578919 -0.60159014 -0.00292581]\n",
      "Contact between ground and Animat/RMTarsus5 at exact position [-0.90544033 -1.32801579 -0.00252241]\n",
      "Contact between ground and Animat/RMTarsus5 at exact position [-9.04249894e-01 -1.30614654e+00 -1.01551075e-04]\n",
      "Contact between ground and Animat/RFTarsus5 at exact position [ 1.0961225  -0.70617596 -0.00498075]\n",
      "Contact between ground and Animat/RFTarsus5 at exact position [ 1.08777700e+00 -6.87026951e-01 -4.19223346e-04]\n",
      "Contact between ground and Animat/RFTarsus5 at exact position [ 1.08975625e+00 -6.86318409e-01 -3.15401494e-04]\n",
      "[-2.63629341]\n",
      "[0.05] [0. 1. 0.] Animat/LFFemur\n",
      "[4.60531433e-06 3.55643570e-06 3.43755876e-06]\n"
     ]
    }
   ],
   "source": [
    "nmf = NeuroMechFly()\n",
    "\n",
    "run_time = 0.2\n",
    "target_num_steps = int(run_time / nmf.timestep)\n",
    "\n",
    "for i in range(target_num_steps):\n",
    "    obs, reward, terminated, truncated, info = nmf.step({\"joints\": leg_action})\n",
    "\n",
    "# Get single contacts and locations\n",
    "for c in nmf.physics.data.contact:\n",
    "    geom1_name = nmf.physics.model.id2name(c.geom1, \"geom\")\n",
    "    geom2_name = nmf.physics.model.id2name(c.geom2, \"geom\")\n",
    "    print(f\"Contact between {geom1_name} and {geom2_name} at exact position {c.pos}\")\n",
    "\n",
    "# Get joint angles whithout adding a sensor (please only use it to debug your code)\n",
    "print(nmf.physics.named.data.qpos[\"Animat/joint_LFFemur\"])\n",
    "\n",
    "# Get the parameters of a joint\n",
    "jnt = nmf.physics.model.jnt(\"Animat/joint_LFFemur\")\n",
    "print(jnt.stiffness, jnt.axis, nmf.physics.model.id2name(jnt.bodyid, \"body\"))\n",
    "\n",
    "# Get the Head inertia\n",
    "head_inertia = nmf.physics.named.model.body_inertia[\"Animat/Head\"]\n",
    "print(head_inertia)  # Diagonal inertia matrix"
   ]
  },
  {
   "cell_type": "markdown",
   "metadata": {},
   "source": [
    "Please note that both data and model have a named option. Not all attribute or method are available through the named field but this allows to access some parameters through the body name instead of the id."
   ]
  },
  {
   "cell_type": "code",
   "execution_count": 15,
   "metadata": {},
   "outputs": [
    {
     "name": "stdout",
     "output_type": "stream",
     "text": [
      "\n",
      "_HAS_DYNAMIC_ATTRIBUTES, __class__, __copy__, __delattr__, __dict__, __dir__, __doc__, __eq__, __format__, __ge__, \n",
      "__getattribute__, __getstate__, __gt__, __hash__, __init__, __init_subclass__, __le__, __lt__, __module__, __ne__, \n",
      "__new__, __reduce__, __reduce_ex__, __repr__, __setattr__, __setstate__, __sizeof__, __str__, __subclasshook__, __weakref__, \n",
      "_model, actuator, actuator_acc0, actuator_actadr, actuator_actlimited, actuator_actnum, actuator_actrange, actuator_biasprm, actuator_biastype, actuator_cranklength, \n",
      "actuator_ctrllimited, actuator_ctrlrange, actuator_dynprm, actuator_dyntype, actuator_forcelimited, actuator_forcerange, actuator_gainprm, actuator_gaintype, actuator_gear, actuator_group, \n",
      "actuator_length0, actuator_lengthrange, actuator_plugin, actuator_trnid, actuator_trntype, actuator_user, body, body_bvhadr, body_bvhnum, body_dofadr, \n",
      "body_dofnum, body_geomadr, body_geomnum, body_gravcomp, body_inertia, body_invweight0, body_ipos, body_iquat, body_jntadr, body_jntnum, \n",
      "body_mass, body_mocapid, body_parentid, body_plugin, body_pos, body_quat, body_rootid, body_sameframe, body_simple, body_subtreemass, \n",
      "body_user, body_weldid, bvh_aabb, bvh_child, bvh_depth, bvh_geomid, cam, cam_bodyid, cam_fovy, cam_ipd, \n",
      "cam_mat0, cam_mode, cam_pos, cam_pos0, cam_poscom0, cam_quat, cam_targetbodyid, cam_user, camera, copy, \n",
      "disable, dof_M0, dof_Madr, dof_armature, dof_bodyid, dof_damping, dof_frictionloss, dof_invweight0, dof_jntid, dof_parentid, \n",
      "dof_simplenum, dof_solimp, dof_solref, eq, eq_active, eq_data, eq_obj1id, eq_obj2id, eq_solimp, eq_solref, \n",
      "eq_type, equality, exclude, exclude_signature, free, from_binary_path, from_byte_string, from_xml_path, from_xml_string, geom, \n",
      "geom_aabb, geom_bodyid, geom_conaffinity, geom_condim, geom_contype, geom_dataid, geom_fluid, geom_friction, geom_gap, geom_group, \n",
      "geom_margin, geom_matid, geom_pos, geom_priority, geom_quat, geom_rbound, geom_rgba, geom_sameframe, geom_size, geom_solimp, \n",
      "geom_solmix, geom_solref, geom_type, geom_user, hfield, hfield_adr, hfield_data, hfield_ncol, hfield_nrow, hfield_size, \n",
      "id2name, jnt, jnt_axis, jnt_bodyid, jnt_dofadr, jnt_group, jnt_limited, jnt_margin, jnt_pos, jnt_qposadr, \n",
      "jnt_range, jnt_solimp, jnt_solref, jnt_stiffness, jnt_type, jnt_user, joint, key, key_act, key_ctrl, \n",
      "key_mpos, key_mquat, key_qpos, key_qvel, key_time, keyframe, light, light_active, light_ambient, light_attenuation, \n",
      "light_bodyid, light_castshadow, light_cutoff, light_diffuse, light_dir, light_dir0, light_directional, light_exponent, light_mode, light_pos, \n",
      "light_pos0, light_poscom0, light_specular, light_targetbodyid, mat, mat_emission, mat_reflectance, mat_rgba, mat_shininess, mat_specular, \n",
      "mat_texid, mat_texrepeat, mat_texuniform, material, mesh, mesh_face, mesh_faceadr, mesh_facenormal, mesh_facenum, mesh_facetexcoord, \n",
      "mesh_graph, mesh_graphadr, mesh_normal, mesh_normaladr, mesh_normalnum, mesh_texcoord, mesh_texcoordadr, mesh_texcoordnum, mesh_vert, mesh_vertadr, \n",
      "mesh_vertnum, nB, nD, nM, na, name, name2id, name_actuatoradr, name_bodyadr, name_camadr, \n",
      "name_eqadr, name_excludeadr, name_geomadr, name_hfieldadr, name_jntadr, name_keyadr, name_lightadr, name_matadr, name_meshadr, name_numericadr, \n",
      "name_pairadr, name_pluginadr, name_sensoradr, name_siteadr, name_skinadr, name_tendonadr, name_texadr, name_textadr, name_tupleadr, names, \n",
      "names_map, nbody, nbuffer, nbvh, ncam, nconmax, nemax, neq, nexclude, ngeom, \n",
      "nhfield, nhfielddata, njmax, njnt, nkey, nlight, nmat, nmesh, nmeshface, nmeshgraph, \n",
      "nmeshnormal, nmeshtexcoord, nmeshvert, nmocap, nnames, nnames_map, nnumeric, nnumericdata, npair, nplugin, \n",
      "npluginattr, npluginstate, nq, nsensor, nsensordata, nsite, nskin, nskinbone, nskinbonevert, nskinface, \n",
      "nskintexvert, nskinvert, nstack, ntendon, ntex, ntexdata, ntext, ntextdata, ntuple, ntupledata, \n",
      "nu, numeric, numeric_adr, numeric_data, numeric_size, nuser_actuator, nuser_body, nuser_cam, nuser_geom, nuser_jnt, \n",
      "nuser_sensor, nuser_site, nuser_tendon, nuserdata, nv, nwrap, opt, pair, pair_dim, pair_friction, \n",
      "pair_gap, pair_geom1, pair_geom2, pair_margin, pair_signature, pair_solimp, pair_solref, plugin, plugin_attr, plugin_attradr, \n",
      "plugin_stateadr, plugin_statenum, ptr, qpos0, qpos_spring, save_binary, sensor, sensor_adr, sensor_cutoff, sensor_datatype, \n",
      "sensor_dim, sensor_needstage, sensor_noise, sensor_objid, sensor_objtype, sensor_plugin, sensor_refid, sensor_reftype, sensor_type, sensor_user, \n",
      "site, site_bodyid, site_group, site_matid, site_pos, site_quat, site_rgba, site_sameframe, site_size, site_type, \n",
      "site_user, skin, skin_boneadr, skin_bonebindpos, skin_bonebindquat, skin_bonebodyid, skin_bonenum, skin_bonevertadr, skin_bonevertid, skin_bonevertnum, \n",
      "skin_bonevertweight, skin_face, skin_faceadr, skin_facenum, skin_group, skin_inflate, skin_matid, skin_rgba, skin_texcoord, skin_texcoordadr, \n",
      "skin_vert, skin_vertadr, skin_vertnum, stat, tendon, tendon_adr, tendon_damping, tendon_frictionloss, tendon_group, tendon_invweight0, \n",
      "tendon_length0, tendon_lengthspring, tendon_limited, tendon_margin, tendon_matid, tendon_num, tendon_range, tendon_rgba, tendon_solimp_fri, tendon_solimp_lim, \n",
      "tendon_solref_fri, tendon_solref_lim, tendon_stiffness, tendon_user, tendon_width, tex, tex_adr, tex_height, tex_rgb, tex_type, \n",
      "tex_width, text_adr, text_data, text_size, texture, to_bytes, tuple, tuple_adr, tuple_objid, tuple_objprm, \n",
      "tuple_objtype, tuple_size, vis, wrap_objid, wrap_prm, wrap_type, B_colind, B_rowadr, B_rownnz, D_colind, \n",
      "D_rowadr, D_rownnz, _HAS_DYNAMIC_ATTRIBUTES, __class__, __copy__, __delattr__, __dict__, __dir__, __doc__, __eq__, \n",
      "__format__, __ge__, __getattribute__, __getstate__, __gt__, __hash__, __init__, __init_subclass__, __le__, __lt__, \n",
      "__module__, __ne__, __new__, __reduce__, __reduce_ex__, __repr__, __setattr__, __setstate__, __sizeof__, __str__, \n",
      "__subclasshook__, __weakref__, _data, _make_copy, _model, act, act_dot, actuator, actuator_force, actuator_length, \n",
      "actuator_moment, actuator_velocity, body, bvh_active, cacc, cam, cam_xmat, cam_xpos, camera, cdof, \n",
      "cdof_dot, cfrc_ext, cfrc_int, cinert, contact, contact_force, copy, crb, ctrl, cvel, \n",
      "efc_AR, efc_AR_colind, efc_AR_rowadr, efc_AR_rownnz, efc_D, efc_J, efc_JT, efc_JT_colind, efc_JT_rowadr, efc_JT_rownnz, \n",
      "efc_JT_rowsuper, efc_J_colind, efc_J_rowadr, efc_J_rownnz, efc_J_rowsuper, efc_KBIP, efc_R, efc_aref, efc_b, efc_diagApprox, \n",
      "efc_force, efc_frictionloss, efc_id, efc_margin, efc_pos, efc_state, efc_type, efc_vel, energy, geom, \n",
      "geom_xmat, geom_xpos, jnt, joint, light, light_xdir, light_xpos, maxuse_con, maxuse_efc, maxuse_stack, \n",
      "mocap_pos, mocap_quat, model, nbuffer, ncon, ne, nefc, nf, nstack, object_velocity, \n",
      "plugin, plugin_data, plugin_state, pstack, ptr, qDeriv, qH, qHDiagInv, qLD, qLDiagInv, \n",
      "qLDiagSqrtInv, qLU, qM, qacc, qacc_smooth, qacc_warmstart, qfrc_actuator, qfrc_applied, qfrc_bias, qfrc_constraint, \n",
      "qfrc_inverse, qfrc_passive, qfrc_smooth, qpos, qvel, sensor, sensordata, site, site_xmat, site_xpos, \n",
      "solver, solver_fwdinv, solver_iter, solver_nnz, subtree_angmom, subtree_com, subtree_linvel, ten, ten_J, ten_J_colind, \n",
      "ten_J_rowadr, ten_J_rownnz, ten_length, ten_velocity, ten_wrapadr, ten_wrapnum, tendon, time, timer, userdata, \n",
      "warning, wrap_obj, wrap_xpos, xanchor, xaxis, xfrc_applied, ximat, xipos, xmat, xpos, \n",
      "xquat, "
     ]
    }
   ],
   "source": [
    "# Just have a look at\n",
    "for i, field in enumerate(dir(nmf.physics.model) + dir(nmf.physics.data)):\n",
    "    if i % 10 == 0:\n",
    "        print()\n",
    "    print(field, end=\", \")"
   ]
  }
 ],
 "metadata": {
  "kernelspec": {
   "display_name": "flygym",
   "language": "python",
   "name": "python3"
  },
  "language_info": {
   "codemirror_mode": {
    "name": "ipython",
    "version": 3
   },
   "file_extension": ".py",
   "mimetype": "text/x-python",
   "name": "python",
   "nbconvert_exporter": "python",
   "pygments_lexer": "ipython3",
   "version": "3.8.16"
  }
 },
 "nbformat": 4,
 "nbformat_minor": 2
}
