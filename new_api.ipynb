{
 "cells": [
  {
   "cell_type": "markdown",
   "metadata": {},
   "source": [
    "# flygym dev-v1.0.0 tutorial\n",
    "\n",
    "In this tutorial, we will learn the basics of using the new API introduced in flygym v1.0.\n",
    "\n",
    "The major changes introduced by this update are:\n",
    "- refactoring: the `NeuroMechFly` has been split into `Fly`, `Camera`, and `Simulation` (or `SingleFlySimulation`).\n",
    "- new features: multi-fly simulation, multi-camera rendering, etc.\n",
    "- new examples: path integration, integrating connectome constrained model for vision, head stabilization, etc.\n",
    "- bug fixes: e.g., fixed issue with camera not rotating according to the fly's orientation."
   ]
  },
  {
   "cell_type": "markdown",
   "metadata": {},
   "source": [
    "# Installation\n",
    "To install the new version of flygym, execute the commands below in a terminal:\n",
    "\n",
    "```sh\n",
    "git clone https://github.com/NeLy-EPFL/flygym.git flygym-v1\n",
    "cd flygym-v1\n",
    "git checkout dev-v1.0.0\n",
    "conda create -y -n flygym-v1 python=3.11\n",
    "conda activate flygym-v1\n",
    "pip install -e \".[dev]\"\n",
    "```\n",
    "\n",
    "The commands above basically\n",
    "- clone the `flygym` repository to a new directory named `flygym-v1` (to avoid conflict with the presumably existing `flygym` directory)\n",
    "- change the working directory to `flygym-v1`\n",
    "- switch to the `dev-v1.0.0` branch\n",
    "- create a new virtual environment named `flygym-v1` (to avoid conflict with the presumably existing `flygym` environment)\n",
    "- activate the `flygym-v1` environment (do this every time before you use the new `flygym` version)\n",
    "- install the new version of the `flygym` package"
   ]
  },
  {
   "cell_type": "code",
   "execution_count": 1,
   "metadata": {},
   "outputs": [],
   "source": [
    "from pathlib import Path\n",
    "import pickle\n",
    "import numpy as np\n",
    "from tqdm import trange\n",
    "\n",
    "save_dir = Path(\"outputs\")\n",
    "save_dir.mkdir(exist_ok=True)"
   ]
  },
  {
   "cell_type": "markdown",
   "metadata": {},
   "source": [
    "To get started, let's do a simply kinematic reply (same as what we did in [week 1](https://github.com/NeLy-EPFL/cobar-exercises/blob/main/week1/gym_basics_and_kinematic_replay.ipynb)) with the new API. We start by loading the joint angles data:"
   ]
  },
  {
   "cell_type": "code",
   "execution_count": 2,
   "metadata": {},
   "outputs": [],
   "source": [
    "# note that flygym.mujoco.<module> has been renamed to flygym.<module>\n",
    "# (e.g., flygym.mujoco.preprogrammed -> flygym.preprogrammed)\n",
    "from flygym.preprogrammed import all_leg_dofs\n",
    "from flygym.util import get_data_path\n",
    "\n",
    "run_time = 0.5\n",
    "timestep = 1e-4\n",
    "actuated_joints = all_leg_dofs\n",
    "\n",
    "data_path = get_data_path(\"flygym\", \"data\")\n",
    "with open(data_path / \"behavior\" / \"210902_pr_fly1.pkl\", \"rb\") as f:\n",
    "    data = pickle.load(f)\n",
    "\n",
    "target_num_steps = int(run_time / timestep)\n",
    "data_block = np.zeros((len(actuated_joints), target_num_steps))\n",
    "input_t = np.arange(len(data[\"joint_LFCoxa\"])) * data[\"meta\"][\"timestep\"]\n",
    "output_t = np.arange(target_num_steps) * timestep\n",
    "\n",
    "for i, joint in enumerate(actuated_joints):\n",
    "    data_block[i, :] = np.interp(output_t, input_t, data[joint])"
   ]
  },
  {
   "cell_type": "markdown",
   "metadata": {},
   "source": [
    "# Single fly simulation\n",
    "Previously, all the attributes and methods of the simulation were included in the `NeuroMechFly` class. To improve cohesion and modularity, it has been restructured into 3 classes: `Fly`, `Camera`, and `SingleFlySimulation`. Let's import them instead:"
   ]
  },
  {
   "cell_type": "code",
   "execution_count": 3,
   "metadata": {},
   "outputs": [],
   "source": [
    "from flygym import Fly, Camera, SingleFlySimulation"
   ]
  },
  {
   "cell_type": "code",
   "execution_count": 4,
   "metadata": {},
   "outputs": [
    {
     "name": "stderr",
     "output_type": "stream",
     "text": [
      "100%|██████████| 5000/5000 [00:02<00:00, 1953.69it/s]\n"
     ]
    }
   ],
   "source": [
    "# most of the parameters previously passed to Parameters are now passed to Fly.\n",
    "# check the documentation for more details.\n",
    "fly = Fly(\n",
    "    spawn_pos=(0, 0, 0.5),\n",
    "    actuated_joints=actuated_joints,\n",
    ")\n",
    "\n",
    "cam = Camera(\n",
    "    fly=fly,\n",
    "    camera_id=\"Animat/camera_left\",\n",
    ")\n",
    "\n",
    "sim = SingleFlySimulation(\n",
    "    fly=fly,\n",
    "    cameras=[cam],\n",
    ")\n",
    "obs, info = sim.reset()\n",
    "\n",
    "for i in trange(target_num_steps):\n",
    "    joint_pos = data_block[:, i]\n",
    "    action = {\"joints\": joint_pos}\n",
    "    obs, reward, terminated, truncated, info = sim.step(action)\n",
    "    sim.render()\n",
    "\n",
    "# note that save_video is a method of Camera instead of Simulation\n",
    "cam.save_video(save_dir / \"single_fly.mp4\")"
   ]
  },
  {
   "cell_type": "code",
   "execution_count": 5,
   "metadata": {},
   "outputs": [
    {
     "data": {
      "text/html": [
       "<video src=\"outputs/single_fly.mp4\" controls  >\n",
       "      Your browser does not support the <code>video</code> element.\n",
       "    </video>"
      ],
      "text/plain": [
       "<IPython.core.display.Video object>"
      ]
     },
     "execution_count": 5,
     "metadata": {},
     "output_type": "execute_result"
    }
   ],
   "source": [
    "from IPython.display import Video\n",
    "\n",
    "Video(str(save_dir / \"single_fly.mp4\"))"
   ]
  },
  {
   "cell_type": "markdown",
   "metadata": {},
   "source": [
    "# Multi-camera rendering\n",
    "It is also possible to pass multiple cameras to `SingleFlySimulation`:"
   ]
  },
  {
   "cell_type": "code",
   "execution_count": 6,
   "metadata": {},
   "outputs": [
    {
     "name": "stderr",
     "output_type": "stream",
     "text": [
      "100%|██████████| 5000/5000 [00:05<00:00, 955.16it/s] \n"
     ]
    }
   ],
   "source": [
    "import imageio\n",
    "\n",
    "fly = Fly(\n",
    "    spawn_pos=(0, 0, 0.5),\n",
    "    actuated_joints=actuated_joints,\n",
    ")\n",
    "\n",
    "cameras = [\n",
    "    Camera(fly=fly, camera_id=f\"Animat/camera_{side}\", window_size=(256, 256))\n",
    "    for side in [\"left\", \"right\", \"top\", \"front\"]\n",
    "]\n",
    "\n",
    "sim = SingleFlySimulation(\n",
    "    fly=fly,\n",
    "    cameras=cameras,\n",
    ")\n",
    "obs, info = sim.reset()\n",
    "\n",
    "with imageio.get_writer(save_dir / \"multiview.mp4\", fps=cameras[0].fps) as writer:\n",
    "    for i in trange(target_num_steps):\n",
    "        joint_pos = data_block[:, i]\n",
    "        action = {\"joints\": joint_pos}\n",
    "        obs, reward, terminated, truncated, info = sim.step(action)\n",
    "        images = sim.render()\n",
    "\n",
    "        if all(i is not None for i in images):\n",
    "            frame = np.concatenate(images, axis=1)\n",
    "            writer.append_data(frame)"
   ]
  },
  {
   "cell_type": "code",
   "execution_count": 7,
   "metadata": {},
   "outputs": [
    {
     "data": {
      "text/html": [
       "<video src=\"outputs/multiview.mp4\" controls  >\n",
       "      Your browser does not support the <code>video</code> element.\n",
       "    </video>"
      ],
      "text/plain": [
       "<IPython.core.display.Video object>"
      ]
     },
     "execution_count": 7,
     "metadata": {},
     "output_type": "execute_result"
    }
   ],
   "source": [
    "Video(str(save_dir / \"multiview.mp4\"))"
   ]
  },
  {
   "cell_type": "markdown",
   "metadata": {},
   "source": [
    "# Multi-fly simulation\n",
    "To run multi-fly simulations, use the `Simulation` class and set the `flies` parameter to a list of `Fly` objects. To identify each fly, let's name them \"0\" and \"1\". As there are multiple flies, the `action` becomes a nested dictionary indexed by the names of the flies at the top level.\n",
    "\n",
    "In fact, `SingleFlySimulation` is just a wrapper around `Simulation`. It is provided for convenence so that `action` does not need to be indexed by the fly's name if there is only one fly."
   ]
  },
  {
   "cell_type": "code",
   "execution_count": 8,
   "metadata": {},
   "outputs": [
    {
     "name": "stderr",
     "output_type": "stream",
     "text": [
      "100%|██████████| 5000/5000 [00:04<00:00, 1001.12it/s]\n"
     ]
    }
   ],
   "source": [
    "from flygym import Simulation\n",
    "\n",
    "fly0 = Fly(name=\"0\", spawn_pos=(0, 0, 0.5))\n",
    "fly1 = Fly(name=\"1\", spawn_pos=(3, 0, 0.5))\n",
    "\n",
    "cam = Camera(fly=fly1, camera_id=\"Animat/camera_right\")\n",
    "\n",
    "sim = Simulation(\n",
    "    flies=[fly0, fly1],\n",
    "    cameras=[cam],\n",
    ")\n",
    "obs, info = sim.reset()\n",
    "\n",
    "for i in trange(target_num_steps):\n",
    "    joint_pos = data_block[:, i]\n",
    "    action = {\n",
    "        \"0\": {\"joints\": joint_pos},\n",
    "        \"1\": {\"joints\": joint_pos},\n",
    "    }\n",
    "    obs, reward, terminated, truncated, info = sim.step(action)\n",
    "    sim.render()\n",
    "\n",
    "cam.save_video(save_dir / \"two_flies.mp4\")"
   ]
  },
  {
   "cell_type": "markdown",
   "metadata": {},
   "source": [
    "Simularly, the observations dictionary is now first indexed by the flies' names, then by the variable names."
   ]
  },
  {
   "cell_type": "code",
   "execution_count": 21,
   "metadata": {},
   "outputs": [
    {
     "name": "stdout",
     "output_type": "stream",
     "text": [
      "['0', '1']\n",
      "['joints', 'fly', 'contact_forces', 'end_effectors', 'fly_orientation']\n"
     ]
    }
   ],
   "source": [
    "print(list(obs.keys()))\n",
    "print(list(obs[\"0\"].keys()))"
   ]
  },
  {
   "cell_type": "markdown",
   "metadata": {},
   "source": [
    "Refer to [chasing.ipynb](chasing.ipynb) for an example of a fly chasing another fly."
   ]
  }
 ],
 "metadata": {
  "kernelspec": {
   "display_name": "flygym",
   "language": "python",
   "name": "python3"
  },
  "language_info": {
   "codemirror_mode": {
    "name": "ipython",
    "version": 3
   },
   "file_extension": ".py",
   "mimetype": "text/x-python",
   "name": "python",
   "nbconvert_exporter": "python",
   "pygments_lexer": "ipython3",
   "version": "3.11.9"
  }
 },
 "nbformat": 4,
 "nbformat_minor": 2
}
