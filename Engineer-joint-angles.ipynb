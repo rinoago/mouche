{
 "cells": [
  {
   "cell_type": "markdown",
   "metadata": {},
   "source": [
    "# How to engineer the joint angles for a new behaviour"
   ]
  },
  {
   "cell_type": "markdown",
   "metadata": {},
   "source": [
    "In this notebook we will take the first steps to implement the lunging behavior. This behaviour is quite distant from the behaviours we have seen so far in the course though with some creativity it is relatively easy to engineer the time series leading to that behaviour.  \n",
    "\n",
    "An example of joint angles engineering for grooming can be found at **week5/Extract_other_modules.ipynb**.\n",
    "\n",
    "\n",
    "Example of lunging behaviour:\n",
    "\n",
    "<p float=\"left\">\n",
    "    <video align=\"center\" width=\"700\" controls>\n",
    "    <source src=\"source/lunging.mp4\" type=\"video/mp4\">\n",
    "    </video>\n",
    "</p>\n",
    "Credits: Hoyer SC, Eckart A, Herrel A, Zars T, Fischer SA, Hardie SL, Heisenberg M (2008). Octopamine in male aggression of Drosophila. Current Biology 18: 159-167"
   ]
  },
  {
   "cell_type": "markdown",
   "metadata": {},
   "source": [
    "# Selecting a starting behaviour"
   ]
  },
  {
   "cell_type": "markdown",
   "metadata": {},
   "source": [
    "to start with we have to select a starting points. This starting point will give us the required cyclical behaviour of joints. Once this is done, we can scale the joint angles, offset them or even apply them to a different joint to get the desired motion. For the lunging behaviour it seems quite clear that the middle legs are getting extended in a classical way while the hindlegs are getting retracted. The best behaviour to start from is walking. Note that depending on your behaviour, it might be easier to start from the fly resting pose, from grooming or from the walking behaviour. Then the joints can be offset, inverted, scaled or replaced by a sine wave among other possibilities.\n",
    "\n",
    "For this exact behaviour, we propose to keep adhesion on in the hind and middle leg and then go through the stance for the middle and through the swing for the hindlegs. This will pulling them closer to each other. In a next step, we can extend further the middle legs so that the fly lunges."
   ]
  },
  {
   "cell_type": "code",
   "execution_count": 1,
   "metadata": {},
   "outputs": [],
   "source": [
    "from flygym.mujoco import Parameters, NeuroMechFly\n",
    "\n",
    "from flygym.mujoco.examples.common import PreprogrammedSteps\n",
    "import numpy as np\n",
    "\n",
    "import matplotlib.pyplot as plt"
   ]
  },
  {
   "cell_type": "code",
   "execution_count": 2,
   "metadata": {},
   "outputs": [],
   "source": [
    "nmf = NeuroMechFly(Parameters(enable_adhesion=True, draw_adhesion=True))\n",
    "preprogrammed_steps = PreprogrammedSteps()\n",
    "\n",
    "swing_periods = preprogrammed_steps.swing_period\n",
    "\n",
    "legs = preprogrammed_steps.legs\n",
    "\n",
    "standing_action = []\n",
    "for leg in legs:\n",
    "    if leg.endswith(\"M\"):\n",
    "        standing_action.extend(\n",
    "            preprogrammed_steps.get_joint_angles(leg, swing_periods[leg][1])\n",
    "        )\n",
    "    else:\n",
    "        standing_action.extend(preprogrammed_steps.get_joint_angles(leg, 0.0))\n",
    "\n",
    "stand_action = {\"joints\": standing_action, \"adhesion\": np.zeros(len(legs))}\n",
    "\n",
    "# Let the fly stand on the floor first\n",
    "for i in range(int(0.2 // nmf.timestep)):\n",
    "    nmf.step(stand_action)\n",
    "\n",
    "\n",
    "run_time = 0.3\n",
    "target_num_steps = int(run_time // nmf.timestep)\n",
    "\n",
    "foreleg_ids = np.zeros(target_num_steps)\n",
    "middle_stance_ids = np.linspace(swing_periods[\"RM\"][1], 2 * np.pi, target_num_steps)\n",
    "hind_swing_ids = np.linspace(0.0, swing_periods[\"RH\"][1], target_num_steps)\n",
    "\n",
    "adhesion_action = np.array([0.0 if leg.endswith(\"F\") else 1.0 for leg in legs])\n",
    "\n",
    "all_joint_angles = []\n",
    "\n",
    "for i in range(target_num_steps):\n",
    "    joint_angles = []\n",
    "    for leg in legs:\n",
    "        if leg.endswith(\"F\"):\n",
    "            joint_angles.extend(\n",
    "                preprogrammed_steps.get_joint_angles(leg, foreleg_ids[i])\n",
    "            )\n",
    "        elif leg.endswith(\"M\"):\n",
    "            joint_angles.extend(\n",
    "                preprogrammed_steps.get_joint_angles(leg, middle_stance_ids[i])\n",
    "            )\n",
    "        else:\n",
    "            joint_angles.extend(\n",
    "                preprogrammed_steps.get_joint_angles(leg, hind_swing_ids[i])\n",
    "            )\n",
    "\n",
    "    all_joint_angles.append(joint_angles.copy())\n",
    "\n",
    "    action = {\"joints\": np.array(joint_angles), \"adhesion\": adhesion_action}\n",
    "    nmf.step(action)\n",
    "    nmf.render()\n",
    "\n",
    "nmf.save_video(\"lunging_base.mp4\", 0)"
   ]
  },
  {
   "cell_type": "markdown",
   "metadata": {},
   "source": [
    "Now that we are there, it is clear that we need to fully extend the midlegs. In the \"zero pose\" (joint angles == 0.0), the midlegs are fully extended."
   ]
  },
  {
   "cell_type": "code",
   "execution_count": 3,
   "metadata": {},
   "outputs": [],
   "source": [
    "nmf = NeuroMechFly(Parameters(enable_adhesion=True, draw_adhesion=True))\n",
    "preprogrammed_steps = PreprogrammedSteps()\n",
    "\n",
    "swing_periods = preprogrammed_steps.swing_period\n",
    "\n",
    "legs = preprogrammed_steps.legs\n",
    "\n",
    "standing_action = []\n",
    "for leg in legs:\n",
    "    if leg.endswith(\"M\"):\n",
    "        standing_action.extend(\n",
    "            preprogrammed_steps.get_joint_angles(leg, swing_periods[leg][1])\n",
    "        )\n",
    "    else:\n",
    "        standing_action.extend(preprogrammed_steps.get_joint_angles(leg, 0.0))\n",
    "\n",
    "stand_action = {\"joints\": standing_action, \"adhesion\": np.zeros(len(legs))}\n",
    "\n",
    "# Let the fly stand on the floor first\n",
    "for i in range(int(0.2 // nmf.timestep)):\n",
    "    nmf.step(stand_action)\n",
    "\n",
    "\n",
    "run_time = 0.3\n",
    "target_num_steps = int(run_time // nmf.timestep)\n",
    "\n",
    "foreleg_ids = np.zeros(target_num_steps)\n",
    "middle_stance_ids = np.linspace(swing_periods[\"RM\"][1], 2 * np.pi, target_num_steps)\n",
    "hind_swing_ids = np.linspace(0.0, swing_periods[\"RH\"][1], target_num_steps)\n",
    "\n",
    "R_midleg_start = preprogrammed_steps.get_joint_angles(\"RM\", swing_periods[\"RM\"][1])\n",
    "R_midleg_stretch = np.linspace(\n",
    "    np.zeros(len(R_midleg_start)), -R_midleg_start, target_num_steps\n",
    ")\n",
    "\n",
    "L_midleg_start = preprogrammed_steps.get_joint_angles(\"LM\", swing_periods[\"LM\"][1])\n",
    "L_midleg_stretch = np.linspace(\n",
    "    np.zeros(len(L_midleg_start)), -L_midleg_start, target_num_steps\n",
    ")\n",
    "\n",
    "adhesion_action = np.array([0.0 if leg.endswith(\"F\") else 1.0 for leg in legs])\n",
    "\n",
    "all_joint_angles = []\n",
    "\n",
    "for i in range(target_num_steps):\n",
    "    joint_angles = []\n",
    "    for leg in legs:\n",
    "        if leg.endswith(\"F\"):\n",
    "            joint_angles.extend(\n",
    "                preprogrammed_steps.get_joint_angles(leg, foreleg_ids[i])\n",
    "            )\n",
    "        elif leg.endswith(\"M\"):\n",
    "            midleg_joint_angles = preprogrammed_steps.get_joint_angles(\n",
    "                leg, middle_stance_ids[i]\n",
    "            )\n",
    "            if leg.startswith(\"R\"):\n",
    "                midleg_joint_angles += R_midleg_stretch[i]\n",
    "            elif leg.startswith(\"L\"):\n",
    "                midleg_joint_angles += L_midleg_stretch[i]\n",
    "\n",
    "            joint_angles.extend(midleg_joint_angles)\n",
    "        else:\n",
    "            joint_angles.extend(\n",
    "                preprogrammed_steps.get_joint_angles(leg, hind_swing_ids[i])\n",
    "            )\n",
    "\n",
    "    all_joint_angles.append(joint_angles.copy())\n",
    "\n",
    "    action = {\"joints\": np.array(joint_angles), \"adhesion\": adhesion_action}\n",
    "    nmf.step(action)\n",
    "    nmf.render()\n",
    "\n",
    "nmf.save_video(\"lunging_extend.mp4\", 0)"
   ]
  },
  {
   "cell_type": "markdown",
   "metadata": {},
   "source": [
    "This is of course a very coarse Lunging behaviour, and it would need to be further refined."
   ]
  },
  {
   "cell_type": "markdown",
   "metadata": {},
   "source": [
    "# Viewing joint angles and manually actuating neuromechfly"
   ]
  },
  {
   "cell_type": "markdown",
   "metadata": {},
   "source": [
    "While of course it is possible to engineer joint angles in the way I described just above this might require a strong intuition about what joint do. This can be further obtained by playing with the an xml in an interactive viewer. Here for example we will load and play with the base xml."
   ]
  },
  {
   "cell_type": "code",
   "execution_count": 4,
   "metadata": {},
   "outputs": [],
   "source": [
    "from flygym.common import get_data_path\n",
    "\n",
    "data_path = get_data_path(\"flygym\", \"data\") / \"mjcf/neuromechfly_seqik_kinorder_ypr.xml\""
   ]
  },
  {
   "cell_type": "code",
   "execution_count": 5,
   "metadata": {},
   "outputs": [
    {
     "data": {
      "text/plain": [
       "0"
      ]
     },
     "execution_count": 5,
     "metadata": {},
     "output_type": "execute_result"
    }
   ],
   "source": [
    "import os\n",
    "\n",
    "open_viewer_str = f\"python3 -m mujoco.viewer --mjcf {data_path}\"\n",
    "os.system(open_viewer_str)"
   ]
  },
  {
   "cell_type": "markdown",
   "metadata": {},
   "source": [
    "Of course if you modified the xml by adding a new actuator or joints you might want to be able to visualize the changes. This can be done by saving the xml to the file."
   ]
  },
  {
   "cell_type": "code",
   "execution_count": 6,
   "metadata": {},
   "outputs": [],
   "source": [
    "class AbdomenNMF(NeuroMechFly):\n",
    "    def _set_joints_stiffness_and_damping(self):\n",
    "        # Do not forget to call the parent method\n",
    "        super()._set_joints_stiffness_and_damping()\n",
    "\n",
    "        # Set the abdomen joints stiffness and damping\n",
    "        for body_name in [\"A1A2\", \"A3\", \"A4\", \"A5\", \"A6\"]:\n",
    "            body = self.model.find(\"body\", body_name)\n",
    "            # add pitch degree of freedom to bed the abdomen\n",
    "            body.add(\n",
    "                \"joint\",\n",
    "                name=f\"joint_{body_name}\",\n",
    "                type=\"hinge\",\n",
    "                pos=\"0 0 0\",\n",
    "                axis=\"0 1 0\",\n",
    "                stiffness=5.0,\n",
    "                springref=0.0,\n",
    "                damping=5.0,\n",
    "                dclass=\"nmf\",\n",
    "            )\n",
    "\n",
    "\n",
    "abd_nmf = AbdomenNMF(Parameters())"
   ]
  },
  {
   "cell_type": "code",
   "execution_count": 7,
   "metadata": {},
   "outputs": [],
   "source": [
    "from dm_control.mjcf.export_with_assets import export_with_assets\n",
    "\n",
    "export_with_assets(abd_nmf.model, \"neuromechfly_abdomen_xml\")"
   ]
  },
  {
   "cell_type": "code",
   "execution_count": 8,
   "metadata": {},
   "outputs": [
    {
     "data": {
      "text/plain": [
       "0"
      ]
     },
     "execution_count": 8,
     "metadata": {},
     "output_type": "execute_result"
    }
   ],
   "source": [
    "# get current path\n",
    "import os\n",
    "\n",
    "current_path = os.getcwd()\n",
    "\n",
    "open_viewer_str = f\"python3 -m mujoco.viewer --mjcf {current_path}/neuromechfly_abdomen_xml/Animat.xml\"\n",
    "os.system(open_viewer_str)"
   ]
  }
 ],
 "metadata": {
  "kernelspec": {
   "display_name": "flygym",
   "language": "python",
   "name": "python3"
  },
  "language_info": {
   "codemirror_mode": {
    "name": "ipython",
    "version": 3
   },
   "file_extension": ".py",
   "mimetype": "text/x-python",
   "name": "python",
   "nbconvert_exporter": "python",
   "pygments_lexer": "ipython3",
   "version": "3.8.16"
  }
 },
 "nbformat": 4,
 "nbformat_minor": 2
}
